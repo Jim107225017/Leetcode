{
 "cells": [
  {
   "cell_type": "markdown",
   "id": "e66c809d",
   "metadata": {},
   "source": [
    "# Description\n",
    "You are given an array of strings words (0-indexed).\n",
    "\n",
    "In one operation, pick two distinct indices i and j, where words[i] is a non-empty string, and move any character from words[i] to any position in words[j].\n",
    "\n",
    "Return true if you can make every string in words equal using any number of operations, and false otherwise."
   ]
  },
  {
   "cell_type": "markdown",
   "id": "5146a93b",
   "metadata": {},
   "source": [
    "# Constraints\n",
    "* 1 <= words.length <= 100\n",
    "* 1 <= words[i].length <= 100\n",
    "* words[i] consists of lowercase English letters."
   ]
  },
  {
   "cell_type": "code",
   "execution_count": 3,
   "id": "86950d97",
   "metadata": {},
   "outputs": [],
   "source": [
    "class Solution:\n",
    "    def makeEqual(self, words: [str]) -> bool:\n",
    "        records = [0] * 26\n",
    "        N = len(words)\n",
    "        for word in words:\n",
    "            for char in word:\n",
    "                records[ord(char)-97] += 1\n",
    "        \n",
    "        for record in records:\n",
    "            if record % N != 0:\n",
    "                return False\n",
    "        \n",
    "        return True"
   ]
  },
  {
   "cell_type": "code",
   "execution_count": 4,
   "id": "dfa8ffde",
   "metadata": {},
   "outputs": [
    {
     "name": "stdout",
     "output_type": "stream",
     "text": [
      "True\n",
      "False\n"
     ]
    }
   ],
   "source": [
    "if __name__ == '__main__':\n",
    "    f = Solution()\n",
    "    \n",
    "    words = [\"abc\",\"aabc\",\"bc\"]\n",
    "    print(f.makeEqual(words))   # True\n",
    "    \n",
    "    words = [\"ab\",\"a\"]\n",
    "    print(f.makeEqual(words))   # False"
   ]
  }
 ],
 "metadata": {
  "kernelspec": {
   "display_name": "Python 3 (ipykernel)",
   "language": "python",
   "name": "python3"
  },
  "language_info": {
   "codemirror_mode": {
    "name": "ipython",
    "version": 3
   },
   "file_extension": ".py",
   "mimetype": "text/x-python",
   "name": "python",
   "nbconvert_exporter": "python",
   "pygments_lexer": "ipython3",
   "version": "3.9.12"
  }
 },
 "nbformat": 4,
 "nbformat_minor": 5
}
