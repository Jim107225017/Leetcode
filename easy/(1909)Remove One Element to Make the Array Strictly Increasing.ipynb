{
 "cells": [
  {
   "cell_type": "markdown",
   "id": "243ea478",
   "metadata": {},
   "source": [
    "# Description\n",
    "Given a 0-indexed integer array nums, return true if it can be made strictly increasing after removing exactly one element, or false otherwise. If the array is already strictly increasing, return true.\n",
    "\n",
    "The array nums is strictly increasing if nums[i - 1] < nums[i] for each index (1 <= i < nums.length)."
   ]
  },
  {
   "cell_type": "markdown",
   "id": "965ae235",
   "metadata": {},
   "source": [
    "# Constraints\n",
    "* 2 <= nums.length <= 1000\n",
    "* 1 <= nums[i] <= 1000"
   ]
  },
  {
   "cell_type": "code",
   "execution_count": 3,
   "id": "c5819c6e",
   "metadata": {},
   "outputs": [],
   "source": [
    "class Solution:\n",
    "    def canBeIncreasing(self, nums: [int]) -> bool:\n",
    "        prev = 0\n",
    "        flag = False\n",
    "        nums.append(1e4)\n",
    "        idx = 0\n",
    "        N = len(nums) - 1\n",
    "        while idx < N:\n",
    "            if prev < nums[idx] < nums[idx+1]:\n",
    "                prev = nums[idx]\n",
    "            else:  # nums[idx] or nums[idx+1] should be removed\n",
    "                if flag:\n",
    "                    return False\n",
    "                flag = True\n",
    "                if nums[idx+1] <= prev:  # remove nums[idx+1]\n",
    "                    prev = nums[idx]\n",
    "                    idx += 1\n",
    "            idx += 1\n",
    "        \n",
    "        return True"
   ]
  },
  {
   "cell_type": "code",
   "execution_count": 4,
   "id": "0c631a76",
   "metadata": {},
   "outputs": [
    {
     "name": "stdout",
     "output_type": "stream",
     "text": [
      "True\n",
      "False\n",
      "False\n",
      "True\n",
      "True\n"
     ]
    }
   ],
   "source": [
    "if __name__ == '__main__':\n",
    "    f = Solution()\n",
    "    \n",
    "    nums = [1,2,10,5,7]\n",
    "    print(f.canBeIncreasing(nums))   # True\n",
    "    \n",
    "    nums = [2,3,1,2]\n",
    "    print(f.canBeIncreasing(nums))   # False\n",
    "    \n",
    "    nums = [1,1,1]\n",
    "    print(f.canBeIncreasing(nums))   # False\n",
    "    \n",
    "    nums = [100,21,100]   # edge case\n",
    "    print(f.canBeIncreasing(nums))   # True\n",
    "    \n",
    "    nums = [105,924,32,968]   # edge case\n",
    "    print(f.canBeIncreasing(nums))   # True"
   ]
  }
 ],
 "metadata": {
  "kernelspec": {
   "display_name": "Python 3 (ipykernel)",
   "language": "python",
   "name": "python3"
  },
  "language_info": {
   "codemirror_mode": {
    "name": "ipython",
    "version": 3
   },
   "file_extension": ".py",
   "mimetype": "text/x-python",
   "name": "python",
   "nbconvert_exporter": "python",
   "pygments_lexer": "ipython3",
   "version": "3.9.12"
  }
 },
 "nbformat": 4,
 "nbformat_minor": 5
}
