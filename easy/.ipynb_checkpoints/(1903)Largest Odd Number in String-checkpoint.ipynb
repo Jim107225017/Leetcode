{
 "cells": [
  {
   "cell_type": "markdown",
   "id": "e2157789",
   "metadata": {},
   "source": [
    "# Description\n",
    "You are given a string num, representing a large integer. Return the largest-valued odd integer (as a string) that is a non-empty substring of num, or an empty string \"\" if no odd integer exists.\n",
    "\n",
    "A substring is a contiguous sequence of characters within a string."
   ]
  },
  {
   "cell_type": "markdown",
   "id": "9a2d3ab1",
   "metadata": {},
   "source": [
    "# Constraints\n",
    "* 1 <= num.length <= 10<sup>5</sup>\n",
    "* num only consists of digits and does not contain any leading zeros."
   ]
  },
  {
   "cell_type": "code",
   "execution_count": 12,
   "id": "e247f3b0",
   "metadata": {},
   "outputs": [],
   "source": [
    "class Solution:\n",
    "    def largestOddNumber(self, num: str) -> str:\n",
    "        odd = {'1', '3', '5', '7', '9'}\n",
    "        for i in range(len(num)-1, -1, -1):\n",
    "            if num[i] in odd:\n",
    "                return num[:i+1]\n",
    "        \n",
    "        return ''"
   ]
  },
  {
   "cell_type": "code",
   "execution_count": 13,
   "id": "721bbf87",
   "metadata": {},
   "outputs": [
    {
     "name": "stdout",
     "output_type": "stream",
     "text": [
      "5\n",
      "\n",
      "35427\n"
     ]
    }
   ],
   "source": [
    "if __name__ == '__main__':\n",
    "    f = Solution()\n",
    "    \n",
    "    num = \"52\"\n",
    "    print(f.largestOddNumber(num))   # \"5\"\n",
    "    \n",
    "    num = \"4206\"\n",
    "    print(f.largestOddNumber(num))   # \"\"\n",
    "    \n",
    "    num = \"35427\"\n",
    "    print(f.largestOddNumber(num))   # \"35427\""
   ]
  }
 ],
 "metadata": {
  "kernelspec": {
   "display_name": "Python 3 (ipykernel)",
   "language": "python",
   "name": "python3"
  },
  "language_info": {
   "codemirror_mode": {
    "name": "ipython",
    "version": 3
   },
   "file_extension": ".py",
   "mimetype": "text/x-python",
   "name": "python",
   "nbconvert_exporter": "python",
   "pygments_lexer": "ipython3",
   "version": "3.9.12"
  }
 },
 "nbformat": 4,
 "nbformat_minor": 5
}
