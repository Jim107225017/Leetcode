{
 "cells": [
  {
   "cell_type": "markdown",
   "id": "48fe88be",
   "metadata": {},
   "source": [
    "# Description\n",
    "Given a binary string s, return true if the longest contiguous segment of 1's is strictly longer than the longest contiguous segment of 0's in s, or return false otherwise.\n",
    "\n",
    "* For example, in s = \"110100010\" the longest continuous segment of 1s has length 2, and the longest continuous segment of 0s has length 3.\n",
    "\n",
    "Note that if there are no 0's, then the longest continuous segment of 0's is considered to have a length 0. The same applies if there is no 1's."
   ]
  },
  {
   "cell_type": "markdown",
   "id": "36fb2822",
   "metadata": {},
   "source": [
    "# Constraints\n",
    "* 1 <= s.length <= 100\n",
    "* s[i] is either '0' or '1'."
   ]
  },
  {
   "cell_type": "code",
   "execution_count": null,
   "id": "0d57aae0",
   "metadata": {},
   "outputs": [],
   "source": [
    "class Solution:\n",
    "    def checkZeroOnes(self, s: str) -> bool:\n",
    "        "
   ]
  },
  {
   "cell_type": "code",
   "execution_count": null,
   "id": "f5622c6d",
   "metadata": {},
   "outputs": [],
   "source": [
    "if __name__ == '__main__':\n",
    "    f = Solution()\n",
    "    \n",
    "    s = \"1101\"\n",
    "    print(f.checkZeroOnes(s))   # True\n",
    "    \n",
    "    s = \"111000\"\n",
    "    print(f.checkZeroOnes(s))   # False\n",
    "    \n",
    "    s = \"110100010\"\n",
    "    print(f.checkZeroOnes(s))   # False"
   ]
  }
 ],
 "metadata": {
  "kernelspec": {
   "display_name": "Python 3 (ipykernel)",
   "language": "python",
   "name": "python3"
  },
  "language_info": {
   "codemirror_mode": {
    "name": "ipython",
    "version": 3
   },
   "file_extension": ".py",
   "mimetype": "text/x-python",
   "name": "python",
   "nbconvert_exporter": "python",
   "pygments_lexer": "ipython3",
   "version": "3.9.12"
  }
 },
 "nbformat": 4,
 "nbformat_minor": 5
}
