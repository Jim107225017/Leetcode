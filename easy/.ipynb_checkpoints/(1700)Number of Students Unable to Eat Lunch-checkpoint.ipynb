{
 "cells": [
  {
   "cell_type": "markdown",
   "id": "894339fb",
   "metadata": {},
   "source": [
    "# Description\n",
    "The school cafeteria offers circular and square sandwiches at lunch break, referred to by numbers 0 and 1 respectively. All students stand in a queue. Each student either prefers square or circular sandwiches.\n",
    "\n",
    "The number of sandwiches in the cafeteria is equal to the number of students. The sandwiches are placed in a stack. At each step:\n",
    "\n",
    "* If the student at the front of the queue prefers the sandwich on the top of the stack, they will take it and leave the queue.\n",
    "* Otherwise, they will leave it and go to the queue's end.\n",
    "\n",
    "This continues until none of the queue students want to take the top sandwich and are thus unable to eat.\n",
    "\n",
    "You are given two integer arrays students and sandwiches where sandwiches[i] is the type of the i​​​​​​th sandwich in the stack (i = 0 is the top of the stack) and students[j] is the preference of the j​​​​​​th student in the initial queue (j = 0 is the front of the queue). Return the number of students that are unable to eat."
   ]
  },
  {
   "cell_type": "markdown",
   "id": "09db431c",
   "metadata": {},
   "source": [
    "# Constraints\n",
    "* 1 <= students.length, sandwiches.length <= 100\n",
    "* students.length == sandwiches.length\n",
    "* sandwiches[i] is 0 or 1.\n",
    "* students[i] is 0 or 1."
   ]
  },
  {
   "cell_type": "code",
   "execution_count": 1,
   "id": "efb36832",
   "metadata": {},
   "outputs": [],
   "source": [
    "class Solution:\n",
    "    def countStudents(self, students: [int], sandwiches: [int]) -> int:\n",
    "        while students:\n",
    "            if students[0] != sandwiches[0]:\n",
    "                temp = students.count(1)\n",
    "                if temp == len(students) or temp == 0:\n",
    "                    break\n",
    "                students.append(students.pop(0))\n",
    "            else:\n",
    "                students.pop(0)\n",
    "                sandwiches.pop(0)\n",
    "                \n",
    "        return len(students)"
   ]
  },
  {
   "cell_type": "code",
   "execution_count": 3,
   "id": "bd7bd833",
   "metadata": {},
   "outputs": [],
   "source": [
    "class Solution:\n",
    "    def countStudents(self, students: [int], sandwiches: [int]) -> int:\n",
    "        while sandwiches:\n",
    "            temp = sandwiches.pop(0)\n",
    "            if temp not in students:\n",
    "                break\n",
    "            students.remove(temp)\n",
    "        \n",
    "        return len(students)"
   ]
  },
  {
   "cell_type": "code",
   "execution_count": 4,
   "id": "e8e31a65",
   "metadata": {},
   "outputs": [
    {
     "name": "stdout",
     "output_type": "stream",
     "text": [
      "0\n",
      "3\n"
     ]
    }
   ],
   "source": [
    "if __name__ == '__main__':\n",
    "    f = Solution()\n",
    "    \n",
    "    students = [1,1,0,0]\n",
    "    sandwiches = [0,1,0,1]\n",
    "    print(f.countStudents(students, sandwiches))   # 0\n",
    "    \n",
    "    students = [1,1,1,0,0,1]\n",
    "    sandwiches = [1,0,0,0,1,1]\n",
    "    print(f.countStudents(students, sandwiches))   # 3"
   ]
  }
 ],
 "metadata": {
  "kernelspec": {
   "display_name": "Python 3 (ipykernel)",
   "language": "python",
   "name": "python3"
  },
  "language_info": {
   "codemirror_mode": {
    "name": "ipython",
    "version": 3
   },
   "file_extension": ".py",
   "mimetype": "text/x-python",
   "name": "python",
   "nbconvert_exporter": "python",
   "pygments_lexer": "ipython3",
   "version": "3.9.12"
  }
 },
 "nbformat": 4,
 "nbformat_minor": 5
}
