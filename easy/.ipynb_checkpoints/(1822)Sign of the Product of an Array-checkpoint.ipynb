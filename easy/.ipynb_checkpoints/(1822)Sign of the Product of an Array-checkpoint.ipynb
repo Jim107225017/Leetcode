{
 "cells": [
  {
   "cell_type": "markdown",
   "id": "1efaf4df",
   "metadata": {},
   "source": [
    "# Description\n",
    "There is a function signFunc(x) that returns:\n",
    "\n",
    "* 1 if x is positive.\n",
    "* -1 if x is negative.\n",
    "* 0 if x is equal to 0.\n",
    "\n",
    "You are given an integer array nums. Let product be the product of all values in the array nums.\n",
    "\n",
    "Return signFunc(product)."
   ]
  },
  {
   "cell_type": "markdown",
   "id": "e2267de3",
   "metadata": {},
   "source": [
    "# Constraints\n",
    "* 1 <= nums.length <= 1000\n",
    "* -100 <= nums[i] <= 100"
   ]
  },
  {
   "cell_type": "code",
   "execution_count": 1,
   "id": "d2851917",
   "metadata": {},
   "outputs": [],
   "source": [
    "class Solution:\n",
    "    def arraySign(self, nums: [int]) -> int:\n",
    "        count_positive = count_negative = 0\n",
    "        for num in nums:\n",
    "            if num == 0:\n",
    "                return 0\n",
    "            elif num < 0:\n",
    "                count_negative += 1\n",
    "            else:\n",
    "                count_positive += 1\n",
    "        \n",
    "        return 1 if count_negative % 2 == 0 else -1"
   ]
  },
  {
   "cell_type": "code",
   "execution_count": 2,
   "id": "34c84fa6",
   "metadata": {},
   "outputs": [
    {
     "name": "stdout",
     "output_type": "stream",
     "text": [
      "1\n",
      "0\n",
      "-1\n"
     ]
    }
   ],
   "source": [
    "if __name__ == '__main__':\n",
    "    f = Solution()\n",
    "    \n",
    "    nums = [-1,-2,-3,-4,3,2,1]\n",
    "    print(f.arraySign(nums))   # 1\n",
    "    \n",
    "    nums = [1,5,0,2,-3]\n",
    "    print(f.arraySign(nums))   # 0\n",
    "    \n",
    "    nums = [-1,1,-1,1,-1]\n",
    "    print(f.arraySign(nums))   # -1"
   ]
  }
 ],
 "metadata": {
  "kernelspec": {
   "display_name": "Python 3 (ipykernel)",
   "language": "python",
   "name": "python3"
  },
  "language_info": {
   "codemirror_mode": {
    "name": "ipython",
    "version": 3
   },
   "file_extension": ".py",
   "mimetype": "text/x-python",
   "name": "python",
   "nbconvert_exporter": "python",
   "pygments_lexer": "ipython3",
   "version": "3.9.12"
  }
 },
 "nbformat": 4,
 "nbformat_minor": 5
}
