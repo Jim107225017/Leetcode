{
 "cells": [
  {
   "cell_type": "markdown",
   "id": "3560b4c7",
   "metadata": {},
   "source": [
    "# Description\n",
    "You are given an m x n integer grid accounts where accounts[i][j] is the amount of money the i​​​​​​​​​​​th​​​​ customer has in the j​​​​​​​​​​​th​​​​ bank. Return the wealth that the richest customer has.\n",
    "\n",
    "A customer's wealth is the amount of money they have in all their bank accounts. The richest customer is the customer that has the maximum wealth."
   ]
  },
  {
   "cell_type": "markdown",
   "id": "1fdc4d2d",
   "metadata": {},
   "source": [
    "# Constraints\n",
    "* m == accounts.length\n",
    "* n == accounts[i].length\n",
    "* 1 <= m, n <= 50\n",
    "* 1 <= accounts[i][j] <= 100"
   ]
  },
  {
   "cell_type": "code",
   "execution_count": 1,
   "id": "eba0d310",
   "metadata": {},
   "outputs": [],
   "source": [
    "class Solution:\n",
    "    def maximumWealth(self, accounts: [[int]]) -> int:\n",
    "        return max((sum(account) for account in accounts))"
   ]
  },
  {
   "cell_type": "code",
   "execution_count": 2,
   "id": "acf192b6",
   "metadata": {},
   "outputs": [
    {
     "name": "stdout",
     "output_type": "stream",
     "text": [
      "6\n",
      "10\n",
      "17\n"
     ]
    }
   ],
   "source": [
    "if __name__ == '__main__':\n",
    "    f = Solution()\n",
    "    \n",
    "    accounts = [[1,2,3],[3,2,1]]\n",
    "    print(f.maximumWealth(accounts))   # 6\n",
    "    \n",
    "    accounts = [[1,5],[7,3],[3,5]]\n",
    "    print(f.maximumWealth(accounts))   # 10\n",
    "    \n",
    "    accounts = [[2,8,7],[7,1,3],[1,9,5]]\n",
    "    print(f.maximumWealth(accounts))   # 17"
   ]
  }
 ],
 "metadata": {
  "kernelspec": {
   "display_name": "Python 3 (ipykernel)",
   "language": "python",
   "name": "python3"
  },
  "language_info": {
   "codemirror_mode": {
    "name": "ipython",
    "version": 3
   },
   "file_extension": ".py",
   "mimetype": "text/x-python",
   "name": "python",
   "nbconvert_exporter": "python",
   "pygments_lexer": "ipython3",
   "version": "3.9.12"
  }
 },
 "nbformat": 4,
 "nbformat_minor": 5
}
