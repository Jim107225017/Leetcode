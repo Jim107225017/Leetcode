{
 "cells": [
  {
   "cell_type": "markdown",
   "id": "4e5eeaac",
   "metadata": {},
   "source": [
    "# Description\n",
    "Given an alphanumeric string s, return the second largest numerical digit that appears in s, or -1 if it does not exist.\n",
    "\n",
    "An alphanumeric string is a string consisting of lowercase English letters and digits."
   ]
  },
  {
   "cell_type": "markdown",
   "id": "2d52caff",
   "metadata": {},
   "source": [
    "# Constraints\n",
    "* 1 <= s.length <= 500\n",
    "* s consists of only lowercase English letters and/or digits."
   ]
  },
  {
   "cell_type": "code",
   "execution_count": 17,
   "id": "2d242b62",
   "metadata": {},
   "outputs": [],
   "source": [
    "class Solution:\n",
    "    def secondHighest(self, s: str) -> int:\n",
    "        largest = -1\n",
    "        second = -1\n",
    "        for char in s:\n",
    "            temp = ord(char) - 48\n",
    "            if 0 <= temp <= 9:\n",
    "                if temp > largest:\n",
    "                    second = largest\n",
    "                    largest = temp\n",
    "                elif second < temp < largest:\n",
    "                    second = temp\n",
    "        \n",
    "        return second"
   ]
  },
  {
   "cell_type": "code",
   "execution_count": 18,
   "id": "8a0db413",
   "metadata": {},
   "outputs": [
    {
     "name": "stdout",
     "output_type": "stream",
     "text": [
      "2\n",
      "-1\n",
      "4\n"
     ]
    }
   ],
   "source": [
    "if __name__ == '__main__':\n",
    "    f = Solution()\n",
    "    \n",
    "    s = \"dfa12321afd\"\n",
    "    print(f.secondHighest(s))   # 2\n",
    "    \n",
    "    s = \"abc1111\"\n",
    "    print(f.secondHighest(s))   # -1\n",
    "    \n",
    "    s = \"sjhtz8344\"\n",
    "    print(f.secondHighest(s))   # 4"
   ]
  }
 ],
 "metadata": {
  "kernelspec": {
   "display_name": "Python 3 (ipykernel)",
   "language": "python",
   "name": "python3"
  },
  "language_info": {
   "codemirror_mode": {
    "name": "ipython",
    "version": 3
   },
   "file_extension": ".py",
   "mimetype": "text/x-python",
   "name": "python",
   "nbconvert_exporter": "python",
   "pygments_lexer": "ipython3",
   "version": "3.9.12"
  }
 },
 "nbformat": 4,
 "nbformat_minor": 5
}
