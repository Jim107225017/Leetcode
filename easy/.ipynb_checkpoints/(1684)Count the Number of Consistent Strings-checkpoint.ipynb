{
 "cells": [
  {
   "cell_type": "markdown",
   "id": "e223cb64",
   "metadata": {},
   "source": [
    "# Description\n",
    "You are given a string allowed consisting of distinct characters and an array of strings words. A string is consistent if all characters in the string appear in the string allowed.\n",
    "\n",
    "Return the number of consistent strings in the array words."
   ]
  },
  {
   "cell_type": "markdown",
   "id": "21191e40",
   "metadata": {},
   "source": [
    "# Constraints\n",
    "* 1 <= words.length <= 10**4\n",
    "* 1 <= allowed.length <= 26\n",
    "* 1 <= words[i].length <= 10\n",
    "* The characters in allowed are distinct.\n",
    "* words[i] and allowed contain only lowercase English letters."
   ]
  },
  {
   "cell_type": "code",
   "execution_count": 3,
   "id": "313737f6",
   "metadata": {},
   "outputs": [],
   "source": [
    "class Solution:\n",
    "    def countConsistentStrings(self, allowed: str, words: [str]) -> int:\n",
    "        counts = 0\n",
    "        \n",
    "        for word in words:\n",
    "            all_allow = True\n",
    "            for char in word:\n",
    "                if char not in allowed:\n",
    "                    all_allow = False\n",
    "                    break\n",
    "            \n",
    "            if all_allow:\n",
    "                counts += 1\n",
    "        \n",
    "        return counts"
   ]
  },
  {
   "cell_type": "code",
   "execution_count": 4,
   "id": "00567e97",
   "metadata": {},
   "outputs": [
    {
     "name": "stdout",
     "output_type": "stream",
     "text": [
      "2\n",
      "7\n",
      "4\n"
     ]
    }
   ],
   "source": [
    "if __name__ == '__main__':\n",
    "    f = Solution()\n",
    "    \n",
    "    allowed = \"ab\"\n",
    "    words = [\"ad\",\"bd\",\"aaab\",\"baa\",\"badab\"]\n",
    "    print(f.countConsistentStrings(allowed, words))   # 2\n",
    "    \n",
    "    allowed = \"abc\"\n",
    "    words = [\"a\",\"b\",\"c\",\"ab\",\"ac\",\"bc\",\"abc\"]\n",
    "    print(f.countConsistentStrings(allowed, words))   # 7\n",
    "    \n",
    "    allowed = \"cad\"\n",
    "    words = [\"cc\",\"acd\",\"b\",\"ba\",\"bac\",\"bad\",\"ac\",\"d\"]\n",
    "    print(f.countConsistentStrings(allowed, words))   # 4"
   ]
  }
 ],
 "metadata": {
  "kernelspec": {
   "display_name": "Python 3 (ipykernel)",
   "language": "python",
   "name": "python3"
  },
  "language_info": {
   "codemirror_mode": {
    "name": "ipython",
    "version": 3
   },
   "file_extension": ".py",
   "mimetype": "text/x-python",
   "name": "python",
   "nbconvert_exporter": "python",
   "pygments_lexer": "ipython3",
   "version": "3.9.12"
  }
 },
 "nbformat": 4,
 "nbformat_minor": 5
}
