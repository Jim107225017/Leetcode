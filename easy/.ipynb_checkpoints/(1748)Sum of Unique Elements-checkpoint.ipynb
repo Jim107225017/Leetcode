{
 "cells": [
  {
   "cell_type": "markdown",
   "id": "8329a8b6",
   "metadata": {},
   "source": [
    "# Description\n",
    "You are given an integer array nums. The unique elements of an array are the elements that appear exactly once in the array.\n",
    "\n",
    "Return the sum of all the unique elements of nums."
   ]
  },
  {
   "cell_type": "markdown",
   "id": "cfaf1bbb",
   "metadata": {},
   "source": [
    "# Constraints\n",
    "* 1 <= nums.length <= 100\n",
    "* 1 <= nums[i] <= 100"
   ]
  },
  {
   "cell_type": "code",
   "execution_count": 5,
   "id": "c41de676",
   "metadata": {},
   "outputs": [],
   "source": [
    "class Solution:\n",
    "    def sumOfUnique(self, nums: [int]) -> int:\n",
    "        hashmap = set()\n",
    "        not_unique = set()\n",
    "        SUM = 0\n",
    "        for num in nums:\n",
    "            if num in hashmap:\n",
    "                if num not in not_unique:\n",
    "                    SUM -= num\n",
    "                    not_unique.add(num)\n",
    "            else:\n",
    "                SUM += num\n",
    "                hashmap.add(num)\n",
    "        \n",
    "        return SUM"
   ]
  },
  {
   "cell_type": "code",
   "execution_count": 7,
   "id": "eb744bef",
   "metadata": {},
   "outputs": [],
   "source": [
    "class Solution:\n",
    "    def sumOfUnique(self, nums: [int]) -> int:\n",
    "        hashmap = {}\n",
    "        for num in nums:\n",
    "            if num not in hashmap:\n",
    "                hashmap[num] = 1\n",
    "            else:\n",
    "                hashmap[num] += 1\n",
    "        \n",
    "        return sum(key for key, value in hashmap.items() if value == 1)"
   ]
  },
  {
   "cell_type": "code",
   "execution_count": 8,
   "id": "a8a4274f",
   "metadata": {},
   "outputs": [
    {
     "name": "stdout",
     "output_type": "stream",
     "text": [
      "4\n",
      "0\n",
      "15\n"
     ]
    }
   ],
   "source": [
    "if __name__ == '__main__':\n",
    "    f = Solution()\n",
    "    \n",
    "    nums = [1,2,3,2]\n",
    "    print(f.sumOfUnique(nums))   # 4\n",
    "    \n",
    "    nums = [1,1,1,1,1]\n",
    "    print(f.sumOfUnique(nums))   # 0\n",
    "    \n",
    "    nums = [1,2,3,4,5]\n",
    "    print(f.sumOfUnique(nums))   # 15"
   ]
  }
 ],
 "metadata": {
  "kernelspec": {
   "display_name": "Python 3 (ipykernel)",
   "language": "python",
   "name": "python3"
  },
  "language_info": {
   "codemirror_mode": {
    "name": "ipython",
    "version": 3
   },
   "file_extension": ".py",
   "mimetype": "text/x-python",
   "name": "python",
   "nbconvert_exporter": "python",
   "pygments_lexer": "ipython3",
   "version": "3.9.12"
  }
 },
 "nbformat": 4,
 "nbformat_minor": 5
}
