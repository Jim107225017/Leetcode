{
 "cells": [
  {
   "cell_type": "markdown",
   "id": "44ea6fa8",
   "metadata": {},
   "source": [
    "# Description\n",
    "Given an array of integers nums, sort the array in increasing order based on the frequency of the values. If multiple values have the same frequency, sort them in decreasing order.\n",
    "\n",
    "Return the sorted array."
   ]
  },
  {
   "cell_type": "markdown",
   "id": "cc8573dd",
   "metadata": {},
   "source": [
    "# Constraints\n",
    "* 1 <= nums.length <= 100\n",
    "* -100 <= nums[i] <= 100"
   ]
  },
  {
   "cell_type": "code",
   "execution_count": 15,
   "id": "abba0143",
   "metadata": {},
   "outputs": [],
   "source": [
    "class Solution:\n",
    "    def frequencySort(self, nums: [int]) -> [int]:\n",
    "        # occur times <-> number\n",
    "        hashmap = {}\n",
    "        for num in nums:\n",
    "            count = nums.count(num)\n",
    "            if count not in hashmap:\n",
    "                hashmap[count] = [num]\n",
    "            else:\n",
    "                hashmap[count].append(num)\n",
    "\n",
    "        ans = []\n",
    "        while hashmap:\n",
    "            temp = hashmap.pop(min(hashmap))\n",
    "            temp.sort(reverse=True)\n",
    "            ans += temp\n",
    "        \n",
    "        return ans"
   ]
  },
  {
   "cell_type": "code",
   "execution_count": 18,
   "id": "555838b0",
   "metadata": {},
   "outputs": [],
   "source": [
    "# One line\n",
    "class Solution:\n",
    "    def frequencySort(self, nums: [int]) -> [int]:\n",
    "        return sorted(sorted(nums, reverse=True), key=nums.count)"
   ]
  },
  {
   "cell_type": "code",
   "execution_count": 19,
   "id": "9742d391",
   "metadata": {},
   "outputs": [
    {
     "name": "stdout",
     "output_type": "stream",
     "text": [
      "[3, 1, 1, 2, 2, 2]\n",
      "[1, 3, 3, 2, 2]\n",
      "[5, -1, 4, 4, -6, -6, 1, 1, 1]\n"
     ]
    }
   ],
   "source": [
    "if __name__ == '__main__':\n",
    "    f = Solution()\n",
    "    \n",
    "    nums = [1,1,2,2,2,3]\n",
    "    print(f.frequencySort(nums))   # [3,1,1,2,2,2]\n",
    "    \n",
    "    nums = [2,3,1,3,2]\n",
    "    print(f.frequencySort(nums))   # [1,3,3,2,2]\n",
    "    \n",
    "    nums = [-1,1,-6,4,5,-6,1,4,1]\n",
    "    print(f.frequencySort(nums))   # [5,-1,4,4,-6,-6,1,1,1]"
   ]
  }
 ],
 "metadata": {
  "kernelspec": {
   "display_name": "Python 3 (ipykernel)",
   "language": "python",
   "name": "python3"
  },
  "language_info": {
   "codemirror_mode": {
    "name": "ipython",
    "version": 3
   },
   "file_extension": ".py",
   "mimetype": "text/x-python",
   "name": "python",
   "nbconvert_exporter": "python",
   "pygments_lexer": "ipython3",
   "version": "3.9.12"
  }
 },
 "nbformat": 4,
 "nbformat_minor": 5
}
