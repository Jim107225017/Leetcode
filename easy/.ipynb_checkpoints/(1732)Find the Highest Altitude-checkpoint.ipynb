{
 "cells": [
  {
   "cell_type": "markdown",
   "id": "5e922a64",
   "metadata": {},
   "source": [
    "# Description\n",
    "There is a biker going on a road trip. The road trip consists of n + 1 points at different altitudes. The biker starts his trip on point 0 with altitude equal 0.\n",
    "\n",
    "You are given an integer array gain of length n where gain[i] is the net gain in altitude between points i​​​​​​ and i + 1 for all (0 <= i < n). Return the highest altitude of a point."
   ]
  },
  {
   "cell_type": "markdown",
   "id": "9e4788aa",
   "metadata": {},
   "source": [
    "# Constraints\n",
    "* n == gain.length\n",
    "* 1 <= n <= 100\n",
    "* -100 <= gain[i] <= 100"
   ]
  },
  {
   "cell_type": "code",
   "execution_count": 1,
   "id": "5a7964ee",
   "metadata": {},
   "outputs": [],
   "source": [
    "class Solution:\n",
    "    def largestAltitude(self, gain: [int]) -> int:\n",
    "        highest = 0\n",
    "        start = 0\n",
    "        for num in gain:\n",
    "            start += num\n",
    "            if start > highest:\n",
    "                highest = start\n",
    "        \n",
    "        return highest"
   ]
  },
  {
   "cell_type": "code",
   "execution_count": 2,
   "id": "4d2248f6",
   "metadata": {},
   "outputs": [
    {
     "name": "stdout",
     "output_type": "stream",
     "text": [
      "1\n",
      "0\n"
     ]
    }
   ],
   "source": [
    "if __name__ == '__main__':\n",
    "    f = Solution()\n",
    "    \n",
    "    gain = [-5,1,5,0,-7]\n",
    "    print(f.largestAltitude(gain))   # 1\n",
    "    \n",
    "    gain = [-4,-3,-2,-1,4,3,2]\n",
    "    print(f.largestAltitude(gain))   # 0"
   ]
  }
 ],
 "metadata": {
  "kernelspec": {
   "display_name": "Python 3 (ipykernel)",
   "language": "python",
   "name": "python3"
  },
  "language_info": {
   "codemirror_mode": {
    "name": "ipython",
    "version": 3
   },
   "file_extension": ".py",
   "mimetype": "text/x-python",
   "name": "python",
   "nbconvert_exporter": "python",
   "pygments_lexer": "ipython3",
   "version": "3.9.12"
  }
 },
 "nbformat": 4,
 "nbformat_minor": 5
}
