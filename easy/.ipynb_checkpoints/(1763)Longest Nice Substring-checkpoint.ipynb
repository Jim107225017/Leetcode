{
 "cells": [
  {
   "cell_type": "markdown",
   "id": "834f84ca",
   "metadata": {},
   "source": [
    "# Description\n",
    "A string s is nice if, for every letter of the alphabet that s contains, it appears both in uppercase and lowercase. For example, \"abABB\" is nice because 'A' and 'a' appear, and 'B' and 'b' appear. However, \"abA\" is not because 'b' appears, but 'B' does not.\n",
    "\n",
    "Given a string s, return the longest substring of s that is nice. If there are multiple, return the substring of the earliest occurrence. If there are none, return an empty string."
   ]
  },
  {
   "cell_type": "markdown",
   "id": "3bb4bab2",
   "metadata": {},
   "source": [
    "# Constraints\n",
    "* 1 <= s.length <= 100\n",
    "* s consists of uppercase and lowercase English letters."
   ]
  },
  {
   "cell_type": "code",
   "execution_count": null,
   "id": "d7af8cfa",
   "metadata": {},
   "outputs": [],
   "source": [
    "class Solution:\n",
    "    def longestNiceSubstring(self, s: str) -> str:\n",
    "        "
   ]
  },
  {
   "cell_type": "code",
   "execution_count": null,
   "id": "c42a6841",
   "metadata": {},
   "outputs": [],
   "source": [
    "if __name__ == '__main__':\n",
    "    f = Solution()\n",
    "    \n",
    "    s = \"YazaAay\"\n",
    "    print(f.longestNiceSubstring(s))   # \"aAa\"\n",
    "    \n",
    "    s = \"Bb\"\n",
    "    print(f.longestNiceSubstring(s))   # \"Bb\"\n",
    "    \n",
    "    s = \"c\"\n",
    "    print(f.longestNiceSubstring(s))   # \"\""
   ]
  }
 ],
 "metadata": {
  "kernelspec": {
   "display_name": "Python 3 (ipykernel)",
   "language": "python",
   "name": "python3"
  },
  "language_info": {
   "codemirror_mode": {
    "name": "ipython",
    "version": 3
   },
   "file_extension": ".py",
   "mimetype": "text/x-python",
   "name": "python",
   "nbconvert_exporter": "python",
   "pygments_lexer": "ipython3",
   "version": "3.9.12"
  }
 },
 "nbformat": 4,
 "nbformat_minor": 5
}
