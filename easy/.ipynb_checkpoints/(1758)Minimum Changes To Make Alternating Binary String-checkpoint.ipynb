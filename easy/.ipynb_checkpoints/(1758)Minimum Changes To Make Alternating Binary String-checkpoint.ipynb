{
 "cells": [
  {
   "cell_type": "markdown",
   "id": "9859b34c",
   "metadata": {},
   "source": [
    "# Description\n",
    "You are given a string s consisting only of the characters '0' and '1'. In one operation, you can change any '0' to '1' or vice versa.\n",
    "\n",
    "The string is called alternating if no two adjacent characters are equal. For example, the string \"010\" is alternating, while the string \"0100\" is not.\n",
    "\n",
    "Return the minimum number of operations needed to make s alternating."
   ]
  },
  {
   "cell_type": "markdown",
   "id": "b4bc2eb4",
   "metadata": {},
   "source": [
    "# Constraints\n",
    "* 1 <= s.length <= 10**4\n",
    "* s[i] is either '0' or '1'."
   ]
  },
  {
   "cell_type": "code",
   "execution_count": 1,
   "id": "6864b6e2",
   "metadata": {},
   "outputs": [],
   "source": [
    "class Solution:\n",
    "    def minOperations(self, s: str) -> int:\n",
    "        s = list(s)\n",
    "        N = len(s)\n",
    "        operations = 0\n",
    "        for i in range(1, N):\n",
    "            if s[i] == s[i-1]:\n",
    "                s[i] = str(1-int(s[i-1]))\n",
    "                operations += 1\n",
    "        \n",
    "        if operations > N/2:\n",
    "            operations = N-operations\n",
    "        \n",
    "        return operations"
   ]
  },
  {
   "cell_type": "code",
   "execution_count": 2,
   "id": "a7a9a30a",
   "metadata": {},
   "outputs": [],
   "source": [
    "class Solution:\n",
    "    def minOperations(self, s: str) -> int:\n",
    "        N = len(s)\n",
    "        prev = s[0]\n",
    "        operations = 0\n",
    "        for i in range(1, N):\n",
    "            if s[i] == prev:\n",
    "                operations += 1\n",
    "                prev = str(1-int(prev))\n",
    "            else:\n",
    "                prev = s[i]\n",
    "            \n",
    "        \n",
    "        if operations > N/2:\n",
    "            operations = N-operations\n",
    "        \n",
    "        return operations"
   ]
  },
  {
   "cell_type": "code",
   "execution_count": 3,
   "id": "c01df6ec",
   "metadata": {},
   "outputs": [
    {
     "name": "stdout",
     "output_type": "stream",
     "text": [
      "1\n",
      "0\n",
      "2\n",
      "1\n",
      "2\n"
     ]
    }
   ],
   "source": [
    "if __name__ == '__main__':\n",
    "    f = Solution()\n",
    "    \n",
    "    s = \"0100\"\n",
    "    print(f.minOperations(s))   # 1\n",
    "    \n",
    "    s = \"10\"\n",
    "    print(f.minOperations(s))   # 0\n",
    "    \n",
    "    s = \"1111\"\n",
    "    print(f.minOperations(s))   # 2\n",
    "    \n",
    "    s = \"1101\"\n",
    "    print(f.minOperations(s))   # 1\n",
    "    \n",
    "    s = \"110111\"\n",
    "    print(f.minOperations(s))   # 2"
   ]
  }
 ],
 "metadata": {
  "kernelspec": {
   "display_name": "Python 3 (ipykernel)",
   "language": "python",
   "name": "python3"
  },
  "language_info": {
   "codemirror_mode": {
    "name": "ipython",
    "version": 3
   },
   "file_extension": ".py",
   "mimetype": "text/x-python",
   "name": "python",
   "nbconvert_exporter": "python",
   "pygments_lexer": "ipython3",
   "version": "3.9.12"
  }
 },
 "nbformat": 4,
 "nbformat_minor": 5
}
