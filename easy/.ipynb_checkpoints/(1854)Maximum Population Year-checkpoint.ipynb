{
 "cells": [
  {
   "cell_type": "markdown",
   "id": "5ffb3601",
   "metadata": {},
   "source": [
    "# Description\n",
    "You are given a 2D integer array logs where each logs[i] = [birthi, deathi] indicates the birth and death years of the ith person.\n",
    "\n",
    "The population of some year x is the number of people alive during that year. The ith person is counted in year x's population if x is in the inclusive range [birthi, deathi - 1]. Note that the person is not counted in the year that they die.\n",
    "\n",
    "Return the earliest year with the maximum population."
   ]
  },
  {
   "cell_type": "markdown",
   "id": "83038d28",
   "metadata": {},
   "source": [
    "# Constraints\n",
    "* 1 <= logs.length <= 100\n",
    "* 1950 <= birthi < deathi <= 2050"
   ]
  },
  {
   "cell_type": "code",
   "execution_count": 1,
   "id": "9ed8f7b2",
   "metadata": {},
   "outputs": [],
   "source": [
    "class Solution:\n",
    "    def maximumPopulation(self, logs: [[int]]) -> int:\n",
    "        records = [0] * (2050 - 1950 + 1)\n",
    "        base = 1950\n",
    "        for log in logs:\n",
    "            records[log[0]-1950] += 1\n",
    "            records[log[1]-1950] -= 1\n",
    "        \n",
    "        counts = 0\n",
    "        max_counts = 0\n",
    "        for idx, record in enumerate(records):\n",
    "            counts += record\n",
    "            if counts > max_counts:\n",
    "                max_counts = counts\n",
    "                ans = idx + 1950\n",
    "        \n",
    "        return ans"
   ]
  },
  {
   "cell_type": "code",
   "execution_count": 3,
   "id": "09791a38",
   "metadata": {},
   "outputs": [
    {
     "name": "stdout",
     "output_type": "stream",
     "text": [
      "1993\n",
      "1960\n"
     ]
    }
   ],
   "source": [
    "if __name__ == '__main__':\n",
    "    f = Solution()\n",
    "    \n",
    "    logs = [[1993,1999],[2000,2010]]\n",
    "    print(f.maximumPopulation(logs))   # 1993\n",
    "    \n",
    "    logs = [[1950,1961],[1960,1971],[1970,1981]]\n",
    "    print(f.maximumPopulation(logs))   # 1960"
   ]
  }
 ],
 "metadata": {
  "kernelspec": {
   "display_name": "Python 3 (ipykernel)",
   "language": "python",
   "name": "python3"
  },
  "language_info": {
   "codemirror_mode": {
    "name": "ipython",
    "version": 3
   },
   "file_extension": ".py",
   "mimetype": "text/x-python",
   "name": "python",
   "nbconvert_exporter": "python",
   "pygments_lexer": "ipython3",
   "version": "3.9.12"
  }
 },
 "nbformat": 4,
 "nbformat_minor": 5
}
