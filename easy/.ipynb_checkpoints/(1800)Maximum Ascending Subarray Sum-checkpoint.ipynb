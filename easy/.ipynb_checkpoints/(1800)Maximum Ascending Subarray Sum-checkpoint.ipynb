{
 "cells": [
  {
   "cell_type": "markdown",
   "id": "6c9b948f",
   "metadata": {},
   "source": [
    "# Description\n",
    "Given an array of positive integers nums, return the maximum possible sum of an ascending subarray in nums.\n",
    "\n",
    "A subarray is defined as a contiguous sequence of numbers in an array.\n",
    "\n",
    "A subarray [numsl, numsl+1, ..., numsr-1, numsr] is ascending if for all i where l <= i < r, numsi < numsi+1. Note that a subarray of size 1 is ascending."
   ]
  },
  {
   "cell_type": "markdown",
   "id": "09789998",
   "metadata": {},
   "source": [
    "# Constraints\n",
    "* 1 <= nums.length <= 100\n",
    "* 1 <= nums[i] <= 100"
   ]
  },
  {
   "cell_type": "code",
   "execution_count": 5,
   "id": "c3438101",
   "metadata": {},
   "outputs": [],
   "source": [
    "class Solution:\n",
    "    def maxAscendingSum(self, nums: [int]) -> int:\n",
    "        SUM = nums[0]\n",
    "        max_SUM = 0\n",
    "        for i in range(1, len(nums)):\n",
    "            if nums[i] > nums[i-1]:\n",
    "                SUM += nums[i]\n",
    "            else:\n",
    "                max_SUM = max(max_SUM, SUM)\n",
    "                SUM = nums[i]\n",
    "        \n",
    "        return max(max_SUM, SUM)"
   ]
  },
  {
   "cell_type": "code",
   "execution_count": 6,
   "id": "8afadcc8",
   "metadata": {},
   "outputs": [
    {
     "name": "stdout",
     "output_type": "stream",
     "text": [
      "65\n",
      "150\n",
      "33\n"
     ]
    }
   ],
   "source": [
    "if __name__ == '__main__':\n",
    "    f = Solution()\n",
    "    \n",
    "    nums = [10,20,30,5,10,50]\n",
    "    print(f.maxAscendingSum(nums))   # 65\n",
    "    \n",
    "    nums = [10,20,30,40,50]\n",
    "    print(f.maxAscendingSum(nums))   # 150\n",
    "    \n",
    "    nums = [12,17,15,13,10,11,12]\n",
    "    print(f.maxAscendingSum(nums))   # 33"
   ]
  }
 ],
 "metadata": {
  "kernelspec": {
   "display_name": "Python 3 (ipykernel)",
   "language": "python",
   "name": "python3"
  },
  "language_info": {
   "codemirror_mode": {
    "name": "ipython",
    "version": 3
   },
   "file_extension": ".py",
   "mimetype": "text/x-python",
   "name": "python",
   "nbconvert_exporter": "python",
   "pygments_lexer": "ipython3",
   "version": "3.9.12"
  }
 },
 "nbformat": 4,
 "nbformat_minor": 5
}
