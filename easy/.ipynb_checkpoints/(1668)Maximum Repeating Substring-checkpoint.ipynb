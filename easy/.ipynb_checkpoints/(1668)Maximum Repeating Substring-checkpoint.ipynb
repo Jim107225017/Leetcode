{
 "cells": [
  {
   "cell_type": "markdown",
   "id": "17864ea2",
   "metadata": {},
   "source": [
    "# Description\n",
    "For a string sequence, a string word is k-repeating if word concatenated k times is a substring of sequence. The word's maximum k-repeating value is the highest value k where word is k-repeating in sequence. If word is not a substring of sequence, word's maximum k-repeating value is 0.\n",
    "\n",
    "Given strings sequence and word, return the maximum k-repeating value of word in sequence."
   ]
  },
  {
   "cell_type": "markdown",
   "id": "20186913",
   "metadata": {},
   "source": [
    "# Constraints\n",
    "* 1 <= sequence.length <= 100\n",
    "* 1 <= word.length <= 100\n",
    "* sequence and word contains only lowercase English letters."
   ]
  },
  {
   "cell_type": "code",
   "execution_count": 8,
   "id": "704e911d",
   "metadata": {},
   "outputs": [],
   "source": [
    "class Solution:\n",
    "    def maxRepeating(self, sequence: str, word: str) -> int:\n",
    "        count = 0\n",
    "        while word * (count+1) in sequence:\n",
    "            count += 1\n",
    "        \n",
    "        return count"
   ]
  },
  {
   "cell_type": "code",
   "execution_count": 9,
   "id": "4bf554f1",
   "metadata": {},
   "outputs": [
    {
     "name": "stdout",
     "output_type": "stream",
     "text": [
      "2\n",
      "1\n",
      "0\n"
     ]
    }
   ],
   "source": [
    "if __name__ == '__main__':\n",
    "    f = Solution()\n",
    "    \n",
    "    sequence = \"ababc\"\n",
    "    word = \"ab\"\n",
    "    print(f.maxRepeating(sequence, word))   # 2\n",
    "    \n",
    "    sequence = \"ababc\"\n",
    "    word = \"ba\"\n",
    "    print(f.maxRepeating(sequence, word))   # 1\n",
    "    \n",
    "    sequence = \"ababc\"\n",
    "    word = \"ac\"\n",
    "    print(f.maxRepeating(sequence, word))   # 0"
   ]
  }
 ],
 "metadata": {
  "kernelspec": {
   "display_name": "Python 3 (ipykernel)",
   "language": "python",
   "name": "python3"
  },
  "language_info": {
   "codemirror_mode": {
    "name": "ipython",
    "version": 3
   },
   "file_extension": ".py",
   "mimetype": "text/x-python",
   "name": "python",
   "nbconvert_exporter": "python",
   "pygments_lexer": "ipython3",
   "version": "3.9.12"
  }
 },
 "nbformat": 4,
 "nbformat_minor": 5
}
