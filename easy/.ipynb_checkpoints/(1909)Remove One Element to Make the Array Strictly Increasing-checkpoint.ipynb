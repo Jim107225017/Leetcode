{
 "cells": [
  {
   "cell_type": "markdown",
   "id": "daeab67c",
   "metadata": {},
   "source": [
    "# Description\n",
    "Given a 0-indexed integer array nums, return true if it can be made strictly increasing after removing exactly one element, or false otherwise. If the array is already strictly increasing, return true.\n",
    "\n",
    "The array nums is strictly increasing if nums[i - 1] < nums[i] for each index (1 <= i < nums.length)."
   ]
  },
  {
   "cell_type": "markdown",
   "id": "c7321c2b",
   "metadata": {},
   "source": [
    "# Constraints\n",
    "* 2 <= nums.length <= 1000\n",
    "* 1 <= nums[i] <= 1000"
   ]
  },
  {
   "cell_type": "code",
   "execution_count": 20,
   "id": "0a1907fc",
   "metadata": {},
   "outputs": [],
   "source": [
    "class Solution:\n",
    "    def canBeIncreasing(self, nums: [int]) -> bool:\n",
    "        # Edge case\n",
    "        if len(nums) == 2:\n",
    "            return True\n",
    "        \n",
    "        idx = 1\n",
    "        operations = 0\n",
    "        while idx < len(nums)-1:\n",
    "            if (nums[idx] <= nums[idx-1]) or (nums[idx] >= nums[idx+1]):\n",
    "                if operations > 0:\n",
    "                    return False\n",
    "                else:\n",
    "                    operations += 1\n",
    "                    nums.pop(idx)\n",
    "            else:\n",
    "                idx += 1\n",
    "        \n",
    "        if nums[idx] <= nums[idx-1] and (operations > 0):\n",
    "            return False\n",
    "        else:\n",
    "            return True"
   ]
  },
  {
   "cell_type": "code",
   "execution_count": 21,
   "id": "0159ce87",
   "metadata": {},
   "outputs": [
    {
     "name": "stdout",
     "output_type": "stream",
     "text": [
      "True\n",
      "False\n",
      "False\n"
     ]
    }
   ],
   "source": [
    "if __name__ == '__main__':\n",
    "    f = Solution()\n",
    "    \n",
    "    nums = [1,2,10,5,7]\n",
    "    print(f.canBeIncreasing(nums))   # True\n",
    "    \n",
    "    nums = [2,3,1,2]\n",
    "    print(f.canBeIncreasing(nums))   # False\n",
    "    \n",
    "    nums = [1,1,1]\n",
    "    print(f.canBeIncreasing(nums))   # False\n",
    "    \n",
    "    nums = [100,21,100]   # edge case\n",
    "    print(f.canBeIncreasing(nums))   # True"
   ]
  }
 ],
 "metadata": {
  "kernelspec": {
   "display_name": "Python 3 (ipykernel)",
   "language": "python",
   "name": "python3"
  },
  "language_info": {
   "codemirror_mode": {
    "name": "ipython",
    "version": 3
   },
   "file_extension": ".py",
   "mimetype": "text/x-python",
   "name": "python",
   "nbconvert_exporter": "python",
   "pygments_lexer": "ipython3",
   "version": "3.9.12"
  }
 },
 "nbformat": 4,
 "nbformat_minor": 5
}
