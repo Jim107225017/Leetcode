{
 "cells": [
  {
   "cell_type": "markdown",
   "id": "15669fa6",
   "metadata": {},
   "source": [
    "# Description\n",
    "Given an integer array nums (0-indexed) and two integers target and start, find an index i such that nums[i] == target and abs(i - start) is minimized. Note that abs(x) is the absolute value of x.\n",
    "\n",
    "Return abs(i - start).\n",
    "\n",
    "It is guaranteed that target exists in nums."
   ]
  },
  {
   "cell_type": "markdown",
   "id": "08cb2832",
   "metadata": {},
   "source": [
    "# Constraints\n",
    "* 1 <= nums.length <= 1000\n",
    "* 1 <= nums[i] <= 10**4\n",
    "* 0 <= start < nums.length\n",
    "* target is in nums."
   ]
  },
  {
   "cell_type": "code",
   "execution_count": 7,
   "id": "2436897b",
   "metadata": {},
   "outputs": [],
   "source": [
    "class Solution:\n",
    "    def getMinDistance(self, nums: [int], target: int, start: int) -> int:\n",
    "        min_diff = len(nums)\n",
    "        for idx, num in enumerate(nums):\n",
    "            if num == target:\n",
    "                min_diff = min(min_diff, abs(idx-start))\n",
    "                \n",
    "        return min_diff"
   ]
  },
  {
   "cell_type": "code",
   "execution_count": 8,
   "id": "e908877f",
   "metadata": {},
   "outputs": [
    {
     "name": "stdout",
     "output_type": "stream",
     "text": [
      "1\n",
      "0\n",
      "0\n",
      "2\n"
     ]
    }
   ],
   "source": [
    "if __name__ == '__main__':\n",
    "    f = Solution()\n",
    "    \n",
    "    nums = [1,2,3,4,5]\n",
    "    target = 5\n",
    "    start = 3\n",
    "    print(f.getMinDistance(nums, target, start))   # 1\n",
    "    \n",
    "    nums = [1]\n",
    "    target = 1\n",
    "    start = 0\n",
    "    print(f.getMinDistance(nums, target, start))   # 0\n",
    "    \n",
    "    nums = [1,1,1,1,1,1,1,1,1,1]\n",
    "    target = 1\n",
    "    start = 0\n",
    "    print(f.getMinDistance(nums, target, start))   # 0\n",
    "    \n",
    "    nums = [5,3,6]\n",
    "    target = 5\n",
    "    start = 2\n",
    "    print(f.getMinDistance(nums, target, start))   # 2"
   ]
  }
 ],
 "metadata": {
  "kernelspec": {
   "display_name": "Python 3 (ipykernel)",
   "language": "python",
   "name": "python3"
  },
  "language_info": {
   "codemirror_mode": {
    "name": "ipython",
    "version": 3
   },
   "file_extension": ".py",
   "mimetype": "text/x-python",
   "name": "python",
   "nbconvert_exporter": "python",
   "pygments_lexer": "ipython3",
   "version": "3.9.12"
  }
 },
 "nbformat": 4,
 "nbformat_minor": 5
}
