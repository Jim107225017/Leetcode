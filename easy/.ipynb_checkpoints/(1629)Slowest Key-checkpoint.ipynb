{
 "cells": [
  {
   "cell_type": "markdown",
   "id": "83f993ff",
   "metadata": {},
   "source": [
    "# Description\n",
    "A newly designed keypad was tested, where a tester pressed a sequence of n keys, one at a time.\n",
    "\n",
    "You are given a string keysPressed of length n, where keysPressed[i] was the ith key pressed in the testing sequence, and a sorted list releaseTimes, where releaseTimes[i] was the time the ith key was released. Both arrays are 0-indexed. The 0th key was pressed at the time 0, and every subsequent key was pressed at the exact time the previous key was released.\n",
    "\n",
    "The tester wants to know the key of the keypress that had the longest duration. The ith keypress had a duration of releaseTimes[i] - releaseTimes[i - 1], and the 0th keypress had a duration of releaseTimes[0].\n",
    "\n",
    "Note that the same key could have been pressed multiple times during the test, and these multiple presses of the same key may not have had the same duration.\n",
    "\n",
    "Return the key of the keypress that had the longest duration. If there are multiple such keypresses, return the lexicographically largest key of the keypresses."
   ]
  },
  {
   "cell_type": "markdown",
   "id": "8d4fb47f",
   "metadata": {},
   "source": [
    "# Constraints\n",
    "* releaseTimes.length == n\n",
    "* keysPressed.length == n\n",
    "* 2 <= n <= 1000\n",
    "* 1 <= releaseTimes[i] <= 10**9\n",
    "* releaseTimes[i] < releaseTimes[i+1]\n",
    "* keysPressed contains only lowercase English letters."
   ]
  },
  {
   "cell_type": "code",
   "execution_count": 8,
   "id": "37f76e9f",
   "metadata": {},
   "outputs": [],
   "source": [
    "class Solution:\n",
    "    def slowestKey(self, releaseTimes: [int], keysPressed: str) -> str:\n",
    "        diff = [releaseTimes[i] if i == 0 else (releaseTimes[i] - releaseTimes[i-1]) for i in range(len(releaseTimes))]\n",
    "        ans = ''\n",
    "        max_times = 0\n",
    "        \n",
    "        for idx, times in enumerate(diff):\n",
    "            if times > max_times:\n",
    "                ans = keysPressed[idx]\n",
    "                max_times = times\n",
    "            elif times == max_times:\n",
    "                ans = max(ans, keysPressed[idx])\n",
    "                \n",
    "        return ans"
   ]
  },
  {
   "cell_type": "code",
   "execution_count": 9,
   "id": "d39bde45",
   "metadata": {},
   "outputs": [
    {
     "name": "stdout",
     "output_type": "stream",
     "text": [
      "c\n",
      "a\n"
     ]
    }
   ],
   "source": [
    "if __name__ == '__main__':\n",
    "    f = Solution()\n",
    "    \n",
    "    releaseTimes = [9,29,49,50]\n",
    "    keysPressed = \"cbcd\"\n",
    "    print(f.slowestKey(releaseTimes, keysPressed))   # 'c'\n",
    "    \n",
    "    releaseTimes = [12,23,36,46,62]\n",
    "    keysPressed = \"spuda\"\n",
    "    print(f.slowestKey(releaseTimes, keysPressed))   # 'a'"
   ]
  }
 ],
 "metadata": {
  "kernelspec": {
   "display_name": "Python 3 (ipykernel)",
   "language": "python",
   "name": "python3"
  },
  "language_info": {
   "codemirror_mode": {
    "name": "ipython",
    "version": 3
   },
   "file_extension": ".py",
   "mimetype": "text/x-python",
   "name": "python",
   "nbconvert_exporter": "python",
   "pygments_lexer": "ipython3",
   "version": "3.9.12"
  }
 },
 "nbformat": 4,
 "nbformat_minor": 5
}
