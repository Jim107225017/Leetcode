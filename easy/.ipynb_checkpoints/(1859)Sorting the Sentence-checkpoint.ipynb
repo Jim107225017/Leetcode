{
 "cells": [
  {
   "cell_type": "markdown",
   "id": "0544ab46",
   "metadata": {},
   "source": [
    "# Description\n",
    "A sentence is a list of words that are separated by a single space with no leading or trailing spaces. Each word consists of lowercase and uppercase English letters.\n",
    "\n",
    "A sentence can be shuffled by appending the 1-indexed word position to each word then rearranging the words in the sentence.\n",
    "\n",
    "* For example, the sentence \"This is a sentence\" can be shuffled as \"sentence4 a3 is2 This1\" or \"is2 sentence4 This1 a3\".\n",
    "\n",
    "Given a shuffled sentence s containing no more than 9 words, reconstruct and return the original sentence."
   ]
  },
  {
   "cell_type": "markdown",
   "id": "bed36560",
   "metadata": {},
   "source": [
    "# Constraints\n",
    "* 2 <= s.length <= 200\n",
    "* s consists of lowercase and uppercase English letters, spaces, and digits from 1 to 9.\n",
    "* The number of words in s is between 1 and 9.\n",
    "* The words in s are separated by a single space.\n",
    "* s contains no leading or trailing spaces."
   ]
  },
  {
   "cell_type": "code",
   "execution_count": 9,
   "id": "d459ba9b",
   "metadata": {},
   "outputs": [],
   "source": [
    "class Solution:\n",
    "    def sortSentence(self, s: str) -> str:\n",
    "        s = s.split(\" \")\n",
    "        ans = [''] * len(s)\n",
    "        for word in s:\n",
    "            idx = int(word[-1])-1\n",
    "            ans[idx] = word[:-1]\n",
    "                \n",
    "        return ' '.join(ans)"
   ]
  },
  {
   "cell_type": "code",
   "execution_count": 10,
   "id": "129db5ff",
   "metadata": {},
   "outputs": [
    {
     "name": "stdout",
     "output_type": "stream",
     "text": [
      "This is a sentence\n",
      "Me Myself and I\n"
     ]
    }
   ],
   "source": [
    "if __name__ == '__main__':\n",
    "    f = Solution()\n",
    "    \n",
    "    s = \"is2 sentence4 This1 a3\"\n",
    "    print(f.sortSentence(s))   # \"This is a sentence\"\n",
    "    \n",
    "    s = \"Myself2 Me1 I4 and3\"\n",
    "    print(f.sortSentence(s))   # \"Me Myself and I\""
   ]
  }
 ],
 "metadata": {
  "kernelspec": {
   "display_name": "Python 3 (ipykernel)",
   "language": "python",
   "name": "python3"
  },
  "language_info": {
   "codemirror_mode": {
    "name": "ipython",
    "version": 3
   },
   "file_extension": ".py",
   "mimetype": "text/x-python",
   "name": "python",
   "nbconvert_exporter": "python",
   "pygments_lexer": "ipython3",
   "version": "3.9.12"
  }
 },
 "nbformat": 4,
 "nbformat_minor": 5
}
