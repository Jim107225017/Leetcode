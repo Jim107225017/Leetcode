{
 "cells": [
  {
   "cell_type": "markdown",
   "id": "0415e347",
   "metadata": {},
   "source": [
    "# Description\n",
    "You are given two integers, x and y, which represent your current location on a Cartesian grid: (x, y). You are also given an array points where each points[i] = [ai, bi] represents that a point exists at (ai, bi). A point is valid if it shares the same x-coordinate or the same y-coordinate as your location.\n",
    "\n",
    "Return the index (0-indexed) of the valid point with the smallest Manhattan distance from your current location. If there are multiple, return the valid point with the smallest index. If there are no valid points, return -1.\n",
    "\n",
    "The Manhattan distance between two points (x1, y1) and (x2, y2) is abs(x1 - x2) + abs(y1 - y2)."
   ]
  },
  {
   "cell_type": "markdown",
   "id": "5d449745",
   "metadata": {},
   "source": [
    "# Constraints\n",
    "* 1 <= points.length <= 10**4\n",
    "* points[i].length == 2\n",
    "* 1 <= x, y, ai, bi <= 10**4"
   ]
  },
  {
   "cell_type": "code",
   "execution_count": 5,
   "id": "53c2f24a",
   "metadata": {},
   "outputs": [],
   "source": [
    "class Solution:\n",
    "    def nearestValidPoint(self, x: int, y: int, points: [[int]]) -> int:\n",
    "        smallest_d = 1e4\n",
    "        idx = -1\n",
    "        for i, p in enumerate(points):\n",
    "            if p[0] == x:\n",
    "                d = abs(p[1]-y)\n",
    "            elif p[1] == y:\n",
    "                d = abs(p[0]-x)\n",
    "            else:\n",
    "                continue\n",
    "            \n",
    "            if d < smallest_d:\n",
    "                smallest_d = d\n",
    "                idx = i\n",
    "        \n",
    "        return idx"
   ]
  },
  {
   "cell_type": "code",
   "execution_count": 6,
   "id": "25789d33",
   "metadata": {},
   "outputs": [
    {
     "name": "stdout",
     "output_type": "stream",
     "text": [
      "2\n",
      "0\n",
      "-1\n"
     ]
    }
   ],
   "source": [
    "if __name__ == '__main__':\n",
    "    f = Solution()\n",
    "    \n",
    "    x = 3\n",
    "    y = 4\n",
    "    points = [[1,2],[3,1],[2,4],[2,3],[4,4]]\n",
    "    print(f.nearestValidPoint(x, y, points))   # 2\n",
    "    \n",
    "    x = 3\n",
    "    y = 4\n",
    "    points = [[3,4]]\n",
    "    print(f.nearestValidPoint(x, y, points))   # 0\n",
    "    \n",
    "    x = 3\n",
    "    y = 4\n",
    "    points = [[2,3]]\n",
    "    print(f.nearestValidPoint(x, y, points))   # -1"
   ]
  }
 ],
 "metadata": {
  "kernelspec": {
   "display_name": "Python 3 (ipykernel)",
   "language": "python",
   "name": "python3"
  },
  "language_info": {
   "codemirror_mode": {
    "name": "ipython",
    "version": 3
   },
   "file_extension": ".py",
   "mimetype": "text/x-python",
   "name": "python",
   "nbconvert_exporter": "python",
   "pygments_lexer": "ipython3",
   "version": "3.9.12"
  }
 },
 "nbformat": 4,
 "nbformat_minor": 5
}
