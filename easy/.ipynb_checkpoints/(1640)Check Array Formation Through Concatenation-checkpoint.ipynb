{
 "cells": [
  {
   "cell_type": "markdown",
   "id": "4c56c9f0",
   "metadata": {},
   "source": [
    "# Description\n",
    "You are given an array of distinct integers arr and an array of integer arrays pieces, where the integers in pieces are distinct. Your goal is to form arr by concatenating the arrays in pieces in any order. However, you are not allowed to reorder the integers in each array pieces[i].\n",
    "\n",
    "Return true if it is possible to form the array arr from pieces. Otherwise, return false."
   ]
  },
  {
   "cell_type": "markdown",
   "id": "053e51a4",
   "metadata": {},
   "source": [
    "# Constraints\n",
    "* 1 <= pieces.length <= arr.length <= 100\n",
    "* sum(pieces[i].length) == arr.length\n",
    "* 1 <= pieces[i].length <= arr.length\n",
    "* 1 <= arr[i], pieces[i][j] <= 100\n",
    "* The integers in arr are distinct.\n",
    "* The integers in pieces are distinct (i.e., If we flatten pieces in a 1D array, all the integers in this array are distinct)."
   ]
  },
  {
   "cell_type": "code",
   "execution_count": 9,
   "id": "cb8054a5",
   "metadata": {},
   "outputs": [],
   "source": [
    "class Solution:\n",
    "    def canFormArray(self, arr: [int], pieces: [[int]]) -> bool:\n",
    "        hashmap = {}\n",
    "        for p in pieces:\n",
    "            N = len(p)\n",
    "            for idx, num in enumerate(p):\n",
    "                if idx == N-1:\n",
    "                    hashmap[num] = None\n",
    "                else:\n",
    "                    hashmap[num] = p[idx+1]\n",
    "        \n",
    "        NEXT = None\n",
    "        M = len(arr)\n",
    "        for idx, num in enumerate(arr):\n",
    "            if NEXT and (NEXT != num):\n",
    "                return False\n",
    "            \n",
    "            if num not in hashmap:\n",
    "                return False\n",
    "            \n",
    "            NEXT = hashmap[num]\n",
    "            if (idx == M-1) and NEXT:\n",
    "                return False\n",
    "        \n",
    "        return True"
   ]
  },
  {
   "cell_type": "code",
   "execution_count": null,
   "id": "be2441e1",
   "metadata": {},
   "outputs": [],
   "source": [
    "# Hashmap\n",
    "# Time complexity = O(n)\n",
    "# Space complexity = O(n)\n",
    "class Solution:\n",
    "    def canFormArray(self, arr: [int], pieces: [[int]]) -> bool:\n",
    "        mp = {x[0]: x for x in pieces}\n",
    "        return sum((mp.get(x, []) for x in arr), []) == arr"
   ]
  },
  {
   "cell_type": "code",
   "execution_count": 11,
   "id": "a322db7a",
   "metadata": {},
   "outputs": [
    {
     "name": "stdout",
     "output_type": "stream",
     "text": [
      "True\n",
      "False\n",
      "True\n",
      "False\n"
     ]
    }
   ],
   "source": [
    "if __name__ == '__main__':\n",
    "    f = Solution()\n",
    "    \n",
    "    arr = [15,88]\n",
    "    pieces = [[88],[15]]\n",
    "    print(f.canFormArray(arr, pieces))   # True\n",
    "    \n",
    "    arr = [49,18,16]\n",
    "    pieces = [[16,18,49]]\n",
    "    print(f.canFormArray(arr, pieces))   # False\n",
    "    \n",
    "    arr = [91,4,64,78]\n",
    "    pieces = [[78],[4,64],[91]]\n",
    "    print(f.canFormArray(arr, pieces))   # True\n",
    "    \n",
    "    arr = [1,2,3]\n",
    "    pieces = [[1],[3,2]]\n",
    "    print(f.canFormArray(arr, pieces))   # False"
   ]
  }
 ],
 "metadata": {
  "kernelspec": {
   "display_name": "Python 3 (ipykernel)",
   "language": "python",
   "name": "python3"
  },
  "language_info": {
   "codemirror_mode": {
    "name": "ipython",
    "version": 3
   },
   "file_extension": ".py",
   "mimetype": "text/x-python",
   "name": "python",
   "nbconvert_exporter": "python",
   "pygments_lexer": "ipython3",
   "version": "3.9.12"
  }
 },
 "nbformat": 4,
 "nbformat_minor": 5
}
