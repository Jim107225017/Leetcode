{
 "cells": [
  {
   "cell_type": "markdown",
   "id": "86636227",
   "metadata": {},
   "source": [
    "# Description\n",
    "You are given coordinates, a string that represents the coordinates of a square of the chessboard. Below is a chessboard for your reference.\n",
    "\n",
    "![example](../jupyter_md/1812.PNG)\n",
    "\n",
    "Return true if the square is white, and false if the square is black.\n",
    "\n",
    "The coordinate will always represent a valid chessboard square. The coordinate will always have the letter first, and the number second."
   ]
  },
  {
   "cell_type": "markdown",
   "id": "3e8b9ec5",
   "metadata": {},
   "source": [
    "# Constraints\n",
    "* coordinates.length == 2\n",
    "* 'a' <= coordinates[0] <= 'h'\n",
    "* '1' <= coordinates[1] <= '8'"
   ]
  },
  {
   "cell_type": "code",
   "execution_count": 3,
   "id": "81173d8c",
   "metadata": {},
   "outputs": [],
   "source": [
    "class Solution:\n",
    "    def squareIsWhite(self, coordinates: str) -> bool:\n",
    "        return (ord(coordinates[0]) + int(coordinates[1])) % 2 == 1"
   ]
  },
  {
   "cell_type": "code",
   "execution_count": 4,
   "id": "db087a1d",
   "metadata": {},
   "outputs": [
    {
     "name": "stdout",
     "output_type": "stream",
     "text": [
      "False\n",
      "True\n",
      "False\n"
     ]
    }
   ],
   "source": [
    "if __name__ == '__main__':\n",
    "    f = Solution()\n",
    "    \n",
    "    coordinates = \"a1\"\n",
    "    print(f.squareIsWhite(coordinates))   # False\n",
    "    \n",
    "    coordinates = \"h3\"\n",
    "    print(f.squareIsWhite(coordinates))   # True\n",
    "    \n",
    "    coordinates = \"c7\"\n",
    "    print(f.squareIsWhite(coordinates))   # False"
   ]
  }
 ],
 "metadata": {
  "kernelspec": {
   "display_name": "Python 3 (ipykernel)",
   "language": "python",
   "name": "python3"
  },
  "language_info": {
   "codemirror_mode": {
    "name": "ipython",
    "version": 3
   },
   "file_extension": ".py",
   "mimetype": "text/x-python",
   "name": "python",
   "nbconvert_exporter": "python",
   "pygments_lexer": "ipython3",
   "version": "3.9.12"
  }
 },
 "nbformat": 4,
 "nbformat_minor": 5
}
