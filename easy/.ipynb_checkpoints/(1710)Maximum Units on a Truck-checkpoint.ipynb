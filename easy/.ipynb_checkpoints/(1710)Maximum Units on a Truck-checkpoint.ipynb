{
 "cells": [
  {
   "cell_type": "markdown",
   "id": "15cf8de0",
   "metadata": {},
   "source": [
    "# Description\n",
    "You are assigned to put some amount of boxes onto one truck. You are given a 2D array boxTypes, where boxTypes[i] = [numberOfBoxesi, numberOfUnitsPerBoxi]:\n",
    "\n",
    "* numberOfBoxesi is the number of boxes of type i.\n",
    "* numberOfUnitsPerBoxi is the number of units in each box of the type i.\n",
    "\n",
    "You are also given an integer truckSize, which is the maximum number of boxes that can be put on the truck. You can choose any boxes to put on the truck as long as the number of boxes does not exceed truckSize.\n",
    "\n",
    "Return the maximum total number of units that can be put on the truck."
   ]
  },
  {
   "cell_type": "markdown",
   "id": "9ece050e",
   "metadata": {},
   "source": [
    "# Constraints\n",
    "* 1 <= boxTypes.length <= 1000\n",
    "* 1 <= numberOfBoxesi, numberOfUnitsPerBoxi <= 1000\n",
    "* 1 <= truckSize <= 10**6"
   ]
  },
  {
   "cell_type": "code",
   "execution_count": 5,
   "id": "41abb061",
   "metadata": {},
   "outputs": [],
   "source": [
    "class Solution:\n",
    "    def maximumUnits(self, boxTypes: [[int]], truckSize: int) -> int:\n",
    "        units_sum = 0\n",
    "        boxTypes = sorted(boxTypes, key=lambda x: x[1])\n",
    "        while truckSize > 0 and boxTypes:\n",
    "            boxes, units = boxTypes.pop()\n",
    "            size = min(truckSize, boxes)\n",
    "            units_sum += size * units\n",
    "            truckSize -= size\n",
    "        \n",
    "        return units_sum"
   ]
  },
  {
   "cell_type": "code",
   "execution_count": 6,
   "id": "119a5236",
   "metadata": {},
   "outputs": [
    {
     "name": "stdout",
     "output_type": "stream",
     "text": [
      "8\n",
      "91\n"
     ]
    }
   ],
   "source": [
    "if __name__ == '__main__':\n",
    "    f = Solution()\n",
    "    \n",
    "    boxTypes = [[1,3],[2,2],[3,1]]\n",
    "    truckSize = 4\n",
    "    print(f.maximumUnits(boxTypes, truckSize))   # 8\n",
    "    \n",
    "    boxTypes = [[5,10],[2,5],[4,7],[3,9]]\n",
    "    truckSize = 10\n",
    "    print(f.maximumUnits(boxTypes, truckSize))   # 91"
   ]
  }
 ],
 "metadata": {
  "kernelspec": {
   "display_name": "Python 3 (ipykernel)",
   "language": "python",
   "name": "python3"
  },
  "language_info": {
   "codemirror_mode": {
    "name": "ipython",
    "version": 3
   },
   "file_extension": ".py",
   "mimetype": "text/x-python",
   "name": "python",
   "nbconvert_exporter": "python",
   "pygments_lexer": "ipython3",
   "version": "3.9.12"
  }
 },
 "nbformat": 4,
 "nbformat_minor": 5
}
