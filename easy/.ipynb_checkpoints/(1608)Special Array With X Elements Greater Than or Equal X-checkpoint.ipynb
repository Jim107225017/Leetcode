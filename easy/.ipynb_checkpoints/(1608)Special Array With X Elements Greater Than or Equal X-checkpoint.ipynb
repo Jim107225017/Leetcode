{
 "cells": [
  {
   "cell_type": "markdown",
   "id": "5d77e4e7",
   "metadata": {},
   "source": [
    "# Description\n",
    "You are given an array nums of non-negative integers. nums is considered special if there exists a number x such that there are exactly x numbers in nums that are greater than or equal to x.\n",
    "\n",
    "Notice that x does not have to be an element in nums.\n",
    "\n",
    "Return x if the array is special, otherwise, return -1. It can be proven that if nums is special, the value for x is unique."
   ]
  },
  {
   "cell_type": "markdown",
   "id": "20ac1103",
   "metadata": {},
   "source": [
    "# Constraints\n",
    "* 1 <= nums.length <= 100\n",
    "* 0 <= nums[i] <= 1000"
   ]
  },
  {
   "cell_type": "code",
   "execution_count": 4,
   "id": "9a45e186",
   "metadata": {},
   "outputs": [],
   "source": [
    "class Solution:\n",
    "    def specialArray(self, nums: [int]) -> int:\n",
    "        N = len(nums)\n",
    "        for n in range(N+1, -1, -1):\n",
    "            if sum([1 for num in nums if num >= n]) == n:\n",
    "                return n\n",
    "            \n",
    "        return -1"
   ]
  },
  {
   "cell_type": "code",
   "execution_count": 5,
   "id": "7ea17981",
   "metadata": {},
   "outputs": [
    {
     "name": "stdout",
     "output_type": "stream",
     "text": [
      "2\n",
      "-1\n",
      "3\n"
     ]
    }
   ],
   "source": [
    "if __name__ == '__main__':\n",
    "    f = Solution()\n",
    "    \n",
    "    nums = [3, 5]\n",
    "    print(f.specialArray(nums))    # 2\n",
    "    \n",
    "    nums = [0, 0]\n",
    "    print(f.specialArray(nums))    # -1\n",
    "    \n",
    "    nums = [0, 4, 3, 0, 4]\n",
    "    print(f.specialArray(nums))    # 3"
   ]
  }
 ],
 "metadata": {
  "kernelspec": {
   "display_name": "Python 3 (ipykernel)",
   "language": "python",
   "name": "python3"
  },
  "language_info": {
   "codemirror_mode": {
    "name": "ipython",
    "version": 3
   },
   "file_extension": ".py",
   "mimetype": "text/x-python",
   "name": "python",
   "nbconvert_exporter": "python",
   "pygments_lexer": "ipython3",
   "version": "3.9.12"
  }
 },
 "nbformat": 4,
 "nbformat_minor": 5
}
