{
 "cells": [
  {
   "cell_type": "markdown",
   "id": "b87e1c40",
   "metadata": {},
   "source": [
    "# Description\n",
    "You have a bomb to defuse, and your time is running out! Your informer will provide you with a circular array code of length of n and a key k.\n",
    "\n",
    "To decrypt the code, you must replace every number. All the numbers are replaced simultaneously.\n",
    "\n",
    "* If k > 0, replace the ith number with the sum of the next k numbers.\n",
    "* If k < 0, replace the ith number with the sum of the previous k numbers.\n",
    "* If k == 0, replace the ith number with 0.\n",
    "\n",
    "As code is circular, the next element of code[n-1] is code[0], and the previous element of code[0] is code[n-1].\n",
    "\n",
    "Given the circular array code and an integer key k, return the decrypted code to defuse the bomb!"
   ]
  },
  {
   "cell_type": "markdown",
   "id": "58e90a25",
   "metadata": {},
   "source": [
    "# Constraints\n",
    "* n == code.length\n",
    "* 1 <= n <= 100\n",
    "* 1 <= code[i] <= 100\n",
    "* -(n - 1) <= k <= n - 1"
   ]
  },
  {
   "cell_type": "code",
   "execution_count": 25,
   "id": "7e19c815",
   "metadata": {},
   "outputs": [],
   "source": [
    "class Solution:\n",
    "    def decrypt(self, code: [int], k: int) -> [int]:\n",
    "        N = len(code)\n",
    "        ans = [0] * N\n",
    "        if k == 0:\n",
    "            return ans\n",
    "        elif k < 0:\n",
    "            multi = -1\n",
    "            k = -k\n",
    "        else:\n",
    "            multi = 1\n",
    "        \n",
    "        for i in range(N):\n",
    "            ans[i] = sum((code[(i+j*multi) % N] for j in range(1, k+1)))\n",
    "        \n",
    "        return ans"
   ]
  },
  {
   "cell_type": "code",
   "execution_count": 29,
   "id": "09d45c57",
   "metadata": {},
   "outputs": [],
   "source": [
    "class Solution:\n",
    "    def decrypt(self, code: [int], k: int) -> [int]:\n",
    "        N = len(code)\n",
    "        ans = [0] * N\n",
    "        if k == 0: \n",
    "            return [0] * N\n",
    "        \n",
    "        code_= code * 3\n",
    "        if k > 0:\n",
    "            for i in range(N):\n",
    "                ans[i] = sum(code_[N+i+1:N+i+1+k])\n",
    "        elif k < 0:\n",
    "            for i in range(N):\n",
    "                ans[i] = sum(code_[N+i+k:N+i])\n",
    "        \n",
    "        return ans"
   ]
  },
  {
   "cell_type": "code",
   "execution_count": 30,
   "id": "30aee84b",
   "metadata": {},
   "outputs": [
    {
     "name": "stdout",
     "output_type": "stream",
     "text": [
      "[12, 10, 16, 13]\n",
      "[0, 0, 0, 0]\n",
      "[12, 5, 6, 13]\n"
     ]
    }
   ],
   "source": [
    "if __name__ == '__main__':\n",
    "    f = Solution()\n",
    "    \n",
    "    code = [5,7,1,4]\n",
    "    k = 3\n",
    "    print(f.decrypt(code, k))   # [12,10,16,13]\n",
    "    \n",
    "    code = [1,2,3,4]\n",
    "    k = 0\n",
    "    print(f.decrypt(code, k))   # [0,0,0,0]\n",
    "    \n",
    "    code = [2,4,9,3]\n",
    "    k = -2\n",
    "    print(f.decrypt(code, k))   # [12,5,6,13]"
   ]
  }
 ],
 "metadata": {
  "kernelspec": {
   "display_name": "Python 3 (ipykernel)",
   "language": "python",
   "name": "python3"
  },
  "language_info": {
   "codemirror_mode": {
    "name": "ipython",
    "version": 3
   },
   "file_extension": ".py",
   "mimetype": "text/x-python",
   "name": "python",
   "nbconvert_exporter": "python",
   "pygments_lexer": "ipython3",
   "version": "3.9.12"
  }
 },
 "nbformat": 4,
 "nbformat_minor": 5
}
