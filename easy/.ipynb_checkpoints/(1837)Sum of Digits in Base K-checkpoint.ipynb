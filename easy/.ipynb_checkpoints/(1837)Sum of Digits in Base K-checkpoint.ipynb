{
 "cells": [
  {
   "cell_type": "markdown",
   "id": "27a7ec88",
   "metadata": {},
   "source": [
    "# Description\n",
    "Given an integer n (in base 10) and a base k, return the sum of the digits of n after converting n from base 10 to base k.\n",
    "\n",
    "After converting, each digit should be interpreted as a base 10 number, and the sum should be returned in base 10."
   ]
  },
  {
   "cell_type": "markdown",
   "id": "15ec0a66",
   "metadata": {},
   "source": [
    "# Constraints\n",
    "* 1 <= n <= 100\n",
    "* 2 <= k <= 10"
   ]
  },
  {
   "cell_type": "code",
   "execution_count": 15,
   "id": "ddbed34b",
   "metadata": {},
   "outputs": [],
   "source": [
    "class Solution:\n",
    "    def sumBase(self, n: int, k: int) -> int:\n",
    "        ans = []\n",
    "        while n > 0:\n",
    "            power = 0\n",
    "            while pow(k, power) <= n:\n",
    "                power += 1\n",
    "\n",
    "            divide = pow(k, power-1)\n",
    "            ans.append(n // divide)\n",
    "            n = n % divide\n",
    "            \n",
    "        return sum(ans)"
   ]
  },
  {
   "cell_type": "code",
   "execution_count": 16,
   "id": "caef0fb6",
   "metadata": {},
   "outputs": [
    {
     "name": "stdout",
     "output_type": "stream",
     "text": [
      "9\n",
      "1\n"
     ]
    }
   ],
   "source": [
    "if __name__ == '__main__':\n",
    "    f = Solution()\n",
    "\n",
    "    n = 34\n",
    "    k = 6\n",
    "    print(f.sumBase(n, k))   # 9\n",
    "    \n",
    "    n = 10\n",
    "    k = 10\n",
    "    print(f.sumBase(n, k))   # 1"
   ]
  }
 ],
 "metadata": {
  "kernelspec": {
   "display_name": "Python 3 (ipykernel)",
   "language": "python",
   "name": "python3"
  },
  "language_info": {
   "codemirror_mode": {
    "name": "ipython",
    "version": 3
   },
   "file_extension": ".py",
   "mimetype": "text/x-python",
   "name": "python",
   "nbconvert_exporter": "python",
   "pygments_lexer": "ipython3",
   "version": "3.9.12"
  }
 },
 "nbformat": 4,
 "nbformat_minor": 5
}
