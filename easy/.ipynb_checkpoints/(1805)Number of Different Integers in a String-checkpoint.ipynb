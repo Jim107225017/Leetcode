{
 "cells": [
  {
   "cell_type": "markdown",
   "id": "d0dfaebe",
   "metadata": {},
   "source": [
    "# Description\n",
    "You are given a string word that consists of digits and lowercase English letters.\n",
    "\n",
    "You will replace every non-digit character with a space. For example, \"a123bc34d8ef34\" will become \" 123  34 8  34\". Notice that you are left with some integers that are separated by at least one space: \"123\", \"34\", \"8\", and \"34\".\n",
    "\n",
    "Return the number of different integers after performing the replacement operations on word.\n",
    "\n",
    "Two integers are considered different if their decimal representations without any leading zeros are different."
   ]
  },
  {
   "cell_type": "markdown",
   "id": "5e4fedb2",
   "metadata": {},
   "source": [
    "# Constraints\n",
    "* 1 <= word.length <= 1000\n",
    "* word consists of digits and lowercase English letters."
   ]
  },
  {
   "cell_type": "code",
   "execution_count": 3,
   "id": "831ce1e8",
   "metadata": {},
   "outputs": [],
   "source": [
    "# Two pointers\n",
    "class Solution:\n",
    "    def numDifferentIntegers(self, word: str) -> int:\n",
    "        start = end = 0\n",
    "        has_start = False\n",
    "        ans = set()\n",
    "        for i in range(len(word)):\n",
    "            if 48 <= ord(word[i])<= 57:\n",
    "                if has_start:\n",
    "                    end = i\n",
    "                else:\n",
    "                    has_start = True\n",
    "                    start = end = i\n",
    "            else:\n",
    "                if has_start:\n",
    "                    ans.add(int(word[start:end+1]))\n",
    "                has_start = False\n",
    "        \n",
    "        if has_start:\n",
    "            ans.add(int(word[start:end+1]))\n",
    "        \n",
    "        return len(ans)"
   ]
  },
  {
   "cell_type": "code",
   "execution_count": 4,
   "id": "c396d629",
   "metadata": {},
   "outputs": [
    {
     "name": "stdout",
     "output_type": "stream",
     "text": [
      "3\n",
      "2\n",
      "1\n"
     ]
    }
   ],
   "source": [
    "if __name__ == '__main__':\n",
    "    f = Solution()\n",
    "    \n",
    "    word = \"a123bc34d8ef34\"\n",
    "    print(f.numDifferentIntegers(word))   # 3\n",
    "    \n",
    "    word = \"leet1234code234\"\n",
    "    print(f.numDifferentIntegers(word))   # 2\n",
    "    \n",
    "    word = \"a1b01c001\"\n",
    "    print(f.numDifferentIntegers(word))   # 1"
   ]
  },
  {
   "cell_type": "code",
   "execution_count": null,
   "id": "d7dfed7d",
   "metadata": {},
   "outputs": [],
   "source": []
  }
 ],
 "metadata": {
  "kernelspec": {
   "display_name": "Python 3 (ipykernel)",
   "language": "python",
   "name": "python3"
  },
  "language_info": {
   "codemirror_mode": {
    "name": "ipython",
    "version": 3
   },
   "file_extension": ".py",
   "mimetype": "text/x-python",
   "name": "python",
   "nbconvert_exporter": "python",
   "pygments_lexer": "ipython3",
   "version": "3.9.12"
  }
 },
 "nbformat": 4,
 "nbformat_minor": 5
}
