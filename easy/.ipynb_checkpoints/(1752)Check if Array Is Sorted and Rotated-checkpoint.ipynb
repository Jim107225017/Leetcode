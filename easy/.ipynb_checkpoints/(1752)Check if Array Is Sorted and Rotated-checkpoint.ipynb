{
 "cells": [
  {
   "cell_type": "markdown",
   "id": "69165a18",
   "metadata": {},
   "source": [
    "# Description\n",
    "Given an array nums, return true if the array was originally sorted in non-decreasing order, then rotated some number of positions (including zero). Otherwise, return false.\n",
    "\n",
    "There may be duplicates in the original array.\n",
    "\n",
    "Note: An array A rotated by x positions results in an array B of the same length such that A[i] == B[(i+x) % A.length], where % is the modulo operation."
   ]
  },
  {
   "cell_type": "markdown",
   "id": "8463c7b1",
   "metadata": {},
   "source": [
    "# Constraints\n",
    "* 1 <= nums.length <= 100\n",
    "* 1 <= nums[i] <= 100"
   ]
  },
  {
   "cell_type": "code",
   "execution_count": 1,
   "id": "949066cf",
   "metadata": {},
   "outputs": [],
   "source": [
    "class Solution:\n",
    "    def check(self, nums: [int]) -> bool:\n",
    "        idx = 0\n",
    "        N = len(nums)\n",
    "        \n",
    "        while idx < N-1:\n",
    "            if nums[idx] > nums[idx+1]:\n",
    "                break\n",
    "            idx += 1\n",
    "        \n",
    "        if idx == N-1:\n",
    "            return True\n",
    "        else:\n",
    "            return nums[idx+1:] + nums[:idx+1] == sorted(nums)"
   ]
  },
  {
   "cell_type": "code",
   "execution_count": 2,
   "id": "390a1ea6",
   "metadata": {},
   "outputs": [
    {
     "name": "stdout",
     "output_type": "stream",
     "text": [
      "True\n",
      "False\n",
      "True\n"
     ]
    }
   ],
   "source": [
    "if __name__ == '__main__':\n",
    "    f = Solution()\n",
    "    \n",
    "    nums = [3,4,5,1,2]\n",
    "    print(f.check(nums))   # True\n",
    "    \n",
    "    nums = [2,1,3,4]\n",
    "    print(f.check(nums))   # False\n",
    "    \n",
    "    nums = [1,2,3]\n",
    "    print(f.check(nums))   # True"
   ]
  }
 ],
 "metadata": {
  "kernelspec": {
   "display_name": "Python 3 (ipykernel)",
   "language": "python",
   "name": "python3"
  },
  "language_info": {
   "codemirror_mode": {
    "name": "ipython",
    "version": 3
   },
   "file_extension": ".py",
   "mimetype": "text/x-python",
   "name": "python",
   "nbconvert_exporter": "python",
   "pygments_lexer": "ipython3",
   "version": "3.9.12"
  }
 },
 "nbformat": 4,
 "nbformat_minor": 5
}
