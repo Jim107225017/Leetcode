{
 "cells": [
  {
   "cell_type": "markdown",
   "id": "61801e06",
   "metadata": {},
   "source": [
    "# Description\n",
    "Given two string arrays word1 and word2, return true if the two arrays represent the same string, and false otherwise.\n",
    "\n",
    "A string is represented by an array if the array elements concatenated in order forms the string."
   ]
  },
  {
   "cell_type": "markdown",
   "id": "93621505",
   "metadata": {},
   "source": [
    "# Constraints\n",
    "* 1 <= word1.length, word2.length <= 10**3\n",
    "* 1 <= word1[i].length, word2[i].length <= 10**3\n",
    "* 1 <= sum(word1[i].length), sum(word2[i].length) <= 10**3\n",
    "* word1[i] and word2[i] consist of lowercase letters."
   ]
  },
  {
   "cell_type": "code",
   "execution_count": 2,
   "id": "58b7f345",
   "metadata": {},
   "outputs": [],
   "source": [
    "class Solution:\n",
    "    def arrayStringsAreEqual(self, word1: [str], word2: [str]) -> bool:\n",
    "        return [char for word in word1 for char in word] == [char for word in word2 for char in word]"
   ]
  },
  {
   "cell_type": "code",
   "execution_count": 6,
   "id": "de9c1411",
   "metadata": {},
   "outputs": [],
   "source": [
    "class Solution:\n",
    "    def arrayStringsAreEqual(self, word1: [str], word2: [str]) -> bool:\n",
    "        return ''.join(word1) == ''.join(word2)"
   ]
  },
  {
   "cell_type": "code",
   "execution_count": 7,
   "id": "2f72abcf",
   "metadata": {},
   "outputs": [
    {
     "name": "stdout",
     "output_type": "stream",
     "text": [
      "True\n",
      "False\n",
      "True\n"
     ]
    }
   ],
   "source": [
    "if __name__ == '__main__':\n",
    "    f = Solution()\n",
    "    \n",
    "    word1 = [\"ab\", \"c\"]\n",
    "    word2 = [\"a\", \"bc\"]\n",
    "    print(f.arrayStringsAreEqual(word1, word2))   # True\n",
    "    \n",
    "    word1 = [\"a\", \"cb\"]\n",
    "    word2 = [\"ab\", \"c\"]\n",
    "    print(f.arrayStringsAreEqual(word1, word2))   # False\n",
    "    \n",
    "    word1  = [\"abc\", \"d\", \"defg\"]\n",
    "    word2 = [\"abcddefg\"]\n",
    "    print(f.arrayStringsAreEqual(word1, word2))   # True"
   ]
  }
 ],
 "metadata": {
  "kernelspec": {
   "display_name": "Python 3 (ipykernel)",
   "language": "python",
   "name": "python3"
  },
  "language_info": {
   "codemirror_mode": {
    "name": "ipython",
    "version": 3
   },
   "file_extension": ".py",
   "mimetype": "text/x-python",
   "name": "python",
   "nbconvert_exporter": "python",
   "pygments_lexer": "ipython3",
   "version": "3.9.12"
  }
 },
 "nbformat": 4,
 "nbformat_minor": 5
}
