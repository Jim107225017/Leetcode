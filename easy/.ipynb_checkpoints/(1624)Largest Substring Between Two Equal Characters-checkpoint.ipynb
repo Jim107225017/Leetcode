{
 "cells": [
  {
   "cell_type": "markdown",
   "id": "7f520020",
   "metadata": {},
   "source": [
    "# Description\n",
    "Given a string s, return the length of the longest substring between two equal characters, excluding the two characters. If there is no such substring return -1.\n",
    "\n",
    "A substring is a contiguous sequence of characters within a string."
   ]
  },
  {
   "cell_type": "markdown",
   "id": "20fe3d90",
   "metadata": {},
   "source": [
    "# Constraints\n",
    "* 1 <= s.length <= 300\n",
    "* s contains only lowercase English letters."
   ]
  },
  {
   "cell_type": "code",
   "execution_count": 9,
   "id": "b165ead7",
   "metadata": {},
   "outputs": [],
   "source": [
    "# Hashmap\n",
    "# Time complexity = O(n)\n",
    "class Solution:\n",
    "    def maxLengthBetweenEqualCharacters(self, s: str) -> int:\n",
    "        ans = -1\n",
    "        hashmap = {}\n",
    "        \n",
    "        for idx, char in enumerate(s):\n",
    "            if char not in hashmap:\n",
    "                hashmap[char] = idx\n",
    "            else:\n",
    "                ans = max(ans, idx-hashmap[char]-1)\n",
    "                \n",
    "        return ans"
   ]
  },
  {
   "cell_type": "code",
   "execution_count": 10,
   "id": "5b60b7b2",
   "metadata": {},
   "outputs": [
    {
     "name": "stdout",
     "output_type": "stream",
     "text": [
      "0\n",
      "2\n",
      "-1\n"
     ]
    }
   ],
   "source": [
    "if __name__ == '__main__':\n",
    "    f = Solution()\n",
    "    \n",
    "    s = \"aa\"\n",
    "    print(f.maxLengthBetweenEqualCharacters(s))   # 0\n",
    "    \n",
    "    s = \"abca\"\n",
    "    print(f.maxLengthBetweenEqualCharacters(s))   # 2\n",
    "    \n",
    "    s = \"cbzxy\"\n",
    "    print(f.maxLengthBetweenEqualCharacters(s))   # -1"
   ]
  }
 ],
 "metadata": {
  "kernelspec": {
   "display_name": "Python 3 (ipykernel)",
   "language": "python",
   "name": "python3"
  },
  "language_info": {
   "codemirror_mode": {
    "name": "ipython",
    "version": 3
   },
   "file_extension": ".py",
   "mimetype": "text/x-python",
   "name": "python",
   "nbconvert_exporter": "python",
   "pygments_lexer": "ipython3",
   "version": "3.9.12"
  }
 },
 "nbformat": 4,
 "nbformat_minor": 5
}
