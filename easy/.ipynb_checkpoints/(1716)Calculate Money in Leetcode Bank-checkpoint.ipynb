{
 "cells": [
  {
   "cell_type": "markdown",
   "id": "77aaa364",
   "metadata": {},
   "source": [
    "# Description\n",
    "Hercy wants to save money for his first car. He puts money in the Leetcode bank every day.\n",
    "\n",
    "He starts by putting in 1 on Monday, the first day. Every day from Tuesday to Sunday, he will put in 1 more than the day before. On every subsequent Monday, he will put in 1 more than the previous Monday.\n",
    "Given n, return the total amount of money he will have in the Leetcode bank at the end of the nth day."
   ]
  },
  {
   "cell_type": "markdown",
   "id": "44796b7c",
   "metadata": {},
   "source": [
    "# Constraints\n",
    "* 1 <= n <= 1000"
   ]
  },
  {
   "cell_type": "code",
   "execution_count": 6,
   "id": "b772f0de",
   "metadata": {},
   "outputs": [],
   "source": [
    "class Solution:\n",
    "    def totalMoney(self, n: int) -> int:\n",
    "        total = 0\n",
    "        N = n // 7\n",
    "        M = n % 7\n",
    "        for i in range(N):\n",
    "            total += ((1+i)+(7+i)) * 7 / 2\n",
    "\n",
    "        total += ((1+N)+(M+N)) * M / 2\n",
    "        return int(total)"
   ]
  },
  {
   "cell_type": "code",
   "execution_count": 7,
   "id": "d23cfd8f",
   "metadata": {},
   "outputs": [
    {
     "name": "stdout",
     "output_type": "stream",
     "text": [
      "10\n",
      "37\n",
      "96\n"
     ]
    }
   ],
   "source": [
    "if __name__ == '__main__':\n",
    "    f = Solution()\n",
    "    \n",
    "    n = 4\n",
    "    print(f.totalMoney(n))   # 10\n",
    "    \n",
    "    n = 10\n",
    "    print(f.totalMoney(n))   # 37\n",
    "    \n",
    "    n = 20\n",
    "    print(f.totalMoney(n))   # 96"
   ]
  }
 ],
 "metadata": {
  "kernelspec": {
   "display_name": "Python 3 (ipykernel)",
   "language": "python",
   "name": "python3"
  },
  "language_info": {
   "codemirror_mode": {
    "name": "ipython",
    "version": 3
   },
   "file_extension": ".py",
   "mimetype": "text/x-python",
   "name": "python",
   "nbconvert_exporter": "python",
   "pygments_lexer": "ipython3",
   "version": "3.9.12"
  }
 },
 "nbformat": 4,
 "nbformat_minor": 5
}
