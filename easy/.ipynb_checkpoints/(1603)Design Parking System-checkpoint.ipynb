{
 "cells": [
  {
   "cell_type": "markdown",
   "id": "bf68d9cd",
   "metadata": {},
   "source": [
    "# Description\n",
    "Design a parking system for a parking lot. The parking lot has three kinds of parking spaces: big, medium, and small, with a fixed number of slots for each size.\n",
    "\n",
    "Implement the ParkingSystem class:\n",
    "\n",
    "* ParkingSystem(int big, int medium, int small) Initializes object of the ParkingSystem class. The number of slots for each parking space are given as part of the constructor.\n",
    "* bool addCar(int carType) Checks whether there is a parking space of carType for the car that wants to get into the parking lot. carType can be of three kinds: big, medium, or small, which are represented by 1, 2, and 3 respectively. A car can only park in a parking space of its carType. If there is no space available, return false, else park the car in that size space and return true."
   ]
  },
  {
   "cell_type": "markdown",
   "id": "84c5d39c",
   "metadata": {},
   "source": [
    "# Constraints\n",
    "* 0 <= big, medium, small <= 1000\n",
    "* carType is 1, 2, or 3\n",
    "* At most 1000 calls will be made to addCar"
   ]
  },
  {
   "cell_type": "code",
   "execution_count": 7,
   "id": "7a63bea8",
   "metadata": {},
   "outputs": [],
   "source": [
    "class ParkingSystem:\n",
    "    \n",
    "    storage = []\n",
    "    def __init__(self, big: int, medium: int, small: int):\n",
    "        self.storage = [big, medium, small]\n",
    "        \n",
    "\n",
    "    def addCar(self, carType: int) -> bool:\n",
    "        if self.storage[carType-1] == 0:\n",
    "            return False\n",
    "        \n",
    "        self.storage[carType-1] -= 1\n",
    "        return True\n",
    "\n",
    "\n",
    "# Your ParkingSystem object will be instantiated and called as such:\n",
    "# obj = ParkingSystem(big, medium, small)\n",
    "# param_1 = obj.addCar(carType)"
   ]
  },
  {
   "cell_type": "code",
   "execution_count": 8,
   "id": "c5260773",
   "metadata": {},
   "outputs": [
    {
     "name": "stdout",
     "output_type": "stream",
     "text": [
      "True\n",
      "True\n",
      "False\n",
      "False\n"
     ]
    }
   ],
   "source": [
    "if __name__ == '__main__':\n",
    "    f = ParkingSystem(1, 1, 0)\n",
    "    \n",
    "    print(f.addCar(1))   # True\n",
    "    print(f.addCar(2))   # True\n",
    "    print(f.addCar(3))   # False\n",
    "    print(f.addCar(1))   # False"
   ]
  }
 ],
 "metadata": {
  "kernelspec": {
   "display_name": "Python 3 (ipykernel)",
   "language": "python",
   "name": "python3"
  },
  "language_info": {
   "codemirror_mode": {
    "name": "ipython",
    "version": 3
   },
   "file_extension": ".py",
   "mimetype": "text/x-python",
   "name": "python",
   "nbconvert_exporter": "python",
   "pygments_lexer": "ipython3",
   "version": "3.9.12"
  }
 },
 "nbformat": 4,
 "nbformat_minor": 5
}
