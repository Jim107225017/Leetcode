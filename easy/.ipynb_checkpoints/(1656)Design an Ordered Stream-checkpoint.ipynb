{
 "cells": [
  {
   "cell_type": "markdown",
   "id": "ffe551c6",
   "metadata": {},
   "source": [
    "# Description\n",
    "There is a stream of n (idKey, value) pairs arriving in an arbitrary order, where idKey is an integer between 1 and n and value is a string. No two pairs have the same id.\n",
    "\n",
    "Design a stream that returns the values in increasing order of their IDs by returning a chunk (list) of values after each insertion. The concatenation of all the chunks should result in a list of the sorted values.\n",
    "\n",
    "Implement the OrderedStream class:\n",
    "\n",
    "* OrderedStream(int n) Constructs the stream to take n values.\n",
    "* String[] insert(int idKey, String value) Inserts the pair (idKey, value) into the stream, then returns the largest possible chunk of currently inserted values that appear next in the order."
   ]
  },
  {
   "cell_type": "markdown",
   "id": "666468b3",
   "metadata": {},
   "source": [
    "# Constraints\n",
    "* 1 <= n <= 1000\n",
    "* 1 <= id <= n\n",
    "* value.length == 5\n",
    "* value consists only of lowercase letters.\n",
    "* Each call to insert will have a unique id.\n",
    "* Exactly n calls will be made to insert."
   ]
  },
  {
   "cell_type": "code",
   "execution_count": 4,
   "id": "be8708c1",
   "metadata": {},
   "outputs": [],
   "source": [
    "class OrderedStream:\n",
    "\n",
    "    def __init__(self, n: int):\n",
    "        self.hashmap = {}\n",
    "        self.pointer = 1\n",
    "\n",
    "    def insert(self, idKey: int, value: str) -> [str]:\n",
    "        self.hashmap[idKey] = value\n",
    "        \n",
    "        temp = []\n",
    "        while self.pointer in self.hashmap:\n",
    "            temp.append(self.hashmap[self.pointer])\n",
    "            self.pointer += 1\n",
    "        \n",
    "        return temp\n",
    "\n",
    "\n",
    "# Your OrderedStream object will be instantiated and called as such:\n",
    "# obj = OrderedStream(n)\n",
    "# param_1 = obj.insert(idKey,value)"
   ]
  },
  {
   "cell_type": "code",
   "execution_count": 5,
   "id": "9dab9764",
   "metadata": {},
   "outputs": [
    {
     "name": "stdout",
     "output_type": "stream",
     "text": [
      "[]\n",
      "['aaaaa']\n",
      "['bbbbb', 'ccccc']\n",
      "[]\n",
      "['ddddd', 'eeeee']\n"
     ]
    }
   ],
   "source": [
    "if __name__ == '__main__':\n",
    "    f = OrderedStream(5)\n",
    "    print(f.insert(3, \"ccccc\"))   # []\n",
    "    print(f.insert(1, \"aaaaa\"))   # [\"aaaaa\"]\n",
    "    print(f.insert(2, \"bbbbb\"))   # [\"bbbbb\", \"ccccc\"]\n",
    "    print(f.insert(5, \"eeeee\"))   # []\n",
    "    print(f.insert(4, \"ddddd\"))   # [\"ddddd\", \"eeeee\"]"
   ]
  }
 ],
 "metadata": {
  "kernelspec": {
   "display_name": "Python 3 (ipykernel)",
   "language": "python",
   "name": "python3"
  },
  "language_info": {
   "codemirror_mode": {
    "name": "ipython",
    "version": 3
   },
   "file_extension": ".py",
   "mimetype": "text/x-python",
   "name": "python",
   "nbconvert_exporter": "python",
   "pygments_lexer": "ipython3",
   "version": "3.9.12"
  }
 },
 "nbformat": 4,
 "nbformat_minor": 5
}
