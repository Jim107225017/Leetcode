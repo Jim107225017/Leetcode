{
 "cells": [
  {
   "cell_type": "markdown",
   "id": "5b236bdb",
   "metadata": {},
   "source": [
    "# Description\n",
    "You own a Goal Parser that can interpret a string command. The command consists of an alphabet of \"G\", \"()\" and/or \"(al)\" in some order. The Goal Parser will interpret \"G\" as the string \"G\", \"()\" as the string \"o\", and \"(al)\" as the string \"al\". The interpreted strings are then concatenated in the original order.\n",
    "\n",
    "Given the string command, return the Goal Parser's interpretation of command."
   ]
  },
  {
   "cell_type": "markdown",
   "id": "f7f48cca",
   "metadata": {},
   "source": [
    "# Constraints\n",
    "* 1 <= command.length <= 100\n",
    "* command consists of \"G\", \"()\", and/or \"(al)\" in some order."
   ]
  },
  {
   "cell_type": "code",
   "execution_count": 2,
   "id": "f96058f3",
   "metadata": {},
   "outputs": [],
   "source": [
    "class Solution:\n",
    "    def interpret(self, command: str) -> str:\n",
    "        ans = ''\n",
    "        ptr = 0\n",
    "        N = len(command)\n",
    "        \n",
    "        while ptr < N:\n",
    "            if command[ptr:ptr+1] == 'G':\n",
    "                ans += 'G'\n",
    "                ptr += 1\n",
    "            elif command[ptr:ptr+2] == '()':\n",
    "                ans += 'o'\n",
    "                ptr += 2\n",
    "            elif command[ptr:ptr+4] == '(al)':\n",
    "                ans += 'al'\n",
    "                ptr += 4\n",
    "        \n",
    "        return ans"
   ]
  },
  {
   "cell_type": "code",
   "execution_count": 4,
   "id": "bda354b6",
   "metadata": {},
   "outputs": [],
   "source": [
    "class Solution:\n",
    "    def interpret(self, command: str) -> str:\n",
    "        command= command.replace(\"()\", \"o\")\n",
    "        return command.replace(\"(al)\", \"al\")"
   ]
  },
  {
   "cell_type": "code",
   "execution_count": 5,
   "id": "0888cc02",
   "metadata": {},
   "outputs": [
    {
     "name": "stdout",
     "output_type": "stream",
     "text": [
      "Goal\n",
      "Gooooal\n",
      "alGalooG\n"
     ]
    }
   ],
   "source": [
    "if __name__ == '__main__':\n",
    "    f = Solution()\n",
    "    \n",
    "    command = \"G()(al)\"\n",
    "    print(f.interpret(command))   # Goal\n",
    "    \n",
    "    command = \"G()()()()(al)\"\n",
    "    print(f.interpret(command))   # Gooooal\n",
    "    \n",
    "    command = \"(al)G(al)()()G\"\n",
    "    print(f.interpret(command))   # alGalooG"
   ]
  }
 ],
 "metadata": {
  "kernelspec": {
   "display_name": "Python 3 (ipykernel)",
   "language": "python",
   "name": "python3"
  },
  "language_info": {
   "codemirror_mode": {
    "name": "ipython",
    "version": 3
   },
   "file_extension": ".py",
   "mimetype": "text/x-python",
   "name": "python",
   "nbconvert_exporter": "python",
   "pygments_lexer": "ipython3",
   "version": "3.9.12"
  }
 },
 "nbformat": 4,
 "nbformat_minor": 5
}
