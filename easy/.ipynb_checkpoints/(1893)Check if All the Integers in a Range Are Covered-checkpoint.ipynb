{
 "cells": [
  {
   "cell_type": "markdown",
   "id": "ac955e84",
   "metadata": {},
   "source": [
    "# Description\n",
    "You are given a 2D integer array ranges and two integers left and right. Each ranges[i] = [starti, endi] represents an inclusive interval between starti and endi.\n",
    "\n",
    "Return true if each integer in the inclusive range [left, right] is covered by at least one interval in ranges. Return false otherwise.\n",
    "\n",
    "An integer x is covered by an interval ranges[i] = [starti, endi] if starti <= x <= endi."
   ]
  },
  {
   "cell_type": "markdown",
   "id": "f936c2d2",
   "metadata": {},
   "source": [
    "# Constraints\n",
    "* 1 <= ranges.length <= 50\n",
    "* 1 <= starti <= endi <= 50\n",
    "* 1 <= left <= right <= 50"
   ]
  },
  {
   "cell_type": "code",
   "execution_count": 5,
   "id": "e39d201d",
   "metadata": {},
   "outputs": [],
   "source": [
    "class Solution:\n",
    "    def isCovered(self, ranges: [[int]], left: int, right: int) -> bool:\n",
    "        ranges.sort(key=lambda x: x[1])\n",
    "        idx = 0\n",
    "        end_idx = len(ranges)\n",
    "        \n",
    "        for num in range(left, right+1):\n",
    "            is_cover = False\n",
    "            while idx < end_idx:\n",
    "                if ranges[idx][0] <= num <= ranges[idx][1]:\n",
    "                    is_cover = True\n",
    "                    break\n",
    "                else:\n",
    "                    idx += 1\n",
    "            \n",
    "            if not is_cover:\n",
    "                return False\n",
    "        \n",
    "        return True"
   ]
  },
  {
   "cell_type": "code",
   "execution_count": 6,
   "id": "28019b2c",
   "metadata": {},
   "outputs": [
    {
     "name": "stdout",
     "output_type": "stream",
     "text": [
      "True\n",
      "False\n"
     ]
    }
   ],
   "source": [
    "if __name__ == '__main__':\n",
    "    f = Solution()\n",
    "    \n",
    "    ranges = [[1,2],[3,4],[5,6]]\n",
    "    left = 2\n",
    "    right = 5\n",
    "    print(f.isCovered(ranges, left, right))   # True\n",
    "    \n",
    "    \n",
    "    ranges = [[1,10],[10,20]]\n",
    "    left = 21\n",
    "    right = 21\n",
    "    print(f.isCovered(ranges, left, right))   # False"
   ]
  }
 ],
 "metadata": {
  "kernelspec": {
   "display_name": "Python 3 (ipykernel)",
   "language": "python",
   "name": "python3"
  },
  "language_info": {
   "codemirror_mode": {
    "name": "ipython",
    "version": 3
   },
   "file_extension": ".py",
   "mimetype": "text/x-python",
   "name": "python",
   "nbconvert_exporter": "python",
   "pygments_lexer": "ipython3",
   "version": "3.9.12"
  }
 },
 "nbformat": 4,
 "nbformat_minor": 5
}
