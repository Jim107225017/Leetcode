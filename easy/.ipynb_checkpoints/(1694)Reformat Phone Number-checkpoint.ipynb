{
 "cells": [
  {
   "cell_type": "markdown",
   "id": "00dc4e84",
   "metadata": {},
   "source": [
    "# Description\n",
    "You are given a phone number as a string number. number consists of digits, spaces ' ', and/or dashes '-'.\n",
    "\n",
    "You would like to reformat the phone number in a certain manner. Firstly, remove all spaces and dashes. Then, group the digits from left to right into blocks of length 3 until there are 4 or fewer digits. The final digits are then grouped as follows:\n",
    "\n",
    "* 2 digits: A single block of length 2.\n",
    "* 3 digits: A single block of length 3.\n",
    "* 4 digits: Two blocks of length 2 each.\n",
    "\n",
    "The blocks are then joined by dashes. Notice that the reformatting process should never produce any blocks of length 1 and produce at most two blocks of length 2.\n",
    "\n",
    "Return the phone number after formatting."
   ]
  },
  {
   "cell_type": "markdown",
   "id": "45ccfd2a",
   "metadata": {},
   "source": [
    "# Constraints\n",
    "* 2 <= number.length <= 100\n",
    "* number consists of digits and the characters '-' and ' '.\n",
    "* There are at least two digits in number."
   ]
  },
  {
   "cell_type": "code",
   "execution_count": 5,
   "id": "1acdcfa8",
   "metadata": {},
   "outputs": [],
   "source": [
    "class Solution:\n",
    "    def reformatNumber(self, number: str) -> str:\n",
    "        number = number.replace(' ', '')\n",
    "        number = number.replace('-', '')\n",
    "        ptr = 0\n",
    "        N = len(number)\n",
    "        ans = []\n",
    "        while N - ptr > 4:\n",
    "            ans.append(number[ptr:ptr+3])\n",
    "            ptr += 3\n",
    "\n",
    "        if (N-ptr) == 4:\n",
    "            ans += [number[ptr:ptr+2], number[ptr+2:ptr+4]]\n",
    "        else:\n",
    "            ans += [number[ptr:]]\n",
    "\n",
    "        return '-'.join(ans)"
   ]
  },
  {
   "cell_type": "code",
   "execution_count": 11,
   "id": "55d23589",
   "metadata": {},
   "outputs": [],
   "source": [
    "class Solution:\n",
    "    def reformatNumber(self, number: str) -> str:\n",
    "        number = number.replace(' ', '')\n",
    "        number = number.replace('-', '')\n",
    "        ans = ''\n",
    "        while len(number) > 4:\n",
    "            ans += number[:3] + '-'\n",
    "            number = number[3:]\n",
    "\n",
    "        if len(number) == 4:\n",
    "            ans += number[:2] + '-' + number[2:]\n",
    "        else:\n",
    "            ans += number\n",
    "\n",
    "        return ans"
   ]
  },
  {
   "cell_type": "code",
   "execution_count": 12,
   "id": "2d46ebe4",
   "metadata": {},
   "outputs": [
    {
     "name": "stdout",
     "output_type": "stream",
     "text": [
      "123-456\n",
      "123-45-67\n",
      "123-456-78\n"
     ]
    }
   ],
   "source": [
    "if __name__ == '__main__':\n",
    "    f = Solution()\n",
    "    \n",
    "    number = \"1-23-45 6\"\n",
    "    print(f.reformatNumber(number))   # \"123-456\"\n",
    "    \n",
    "    number = \"123 4-567\"\n",
    "    print(f.reformatNumber(number))   # \"123-45-67\"\n",
    "    \n",
    "    number = \"123 4-5678\"\n",
    "    print(f.reformatNumber(number))   # \"123-456-78\""
   ]
  }
 ],
 "metadata": {
  "kernelspec": {
   "display_name": "Python 3 (ipykernel)",
   "language": "python",
   "name": "python3"
  },
  "language_info": {
   "codemirror_mode": {
    "name": "ipython",
    "version": 3
   },
   "file_extension": ".py",
   "mimetype": "text/x-python",
   "name": "python",
   "nbconvert_exporter": "python",
   "pygments_lexer": "ipython3",
   "version": "3.9.12"
  }
 },
 "nbformat": 4,
 "nbformat_minor": 5
}
