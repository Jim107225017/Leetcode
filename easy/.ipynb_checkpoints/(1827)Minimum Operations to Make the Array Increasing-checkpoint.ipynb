{
 "cells": [
  {
   "cell_type": "markdown",
   "id": "2260484d",
   "metadata": {},
   "source": [
    "# Description\n",
    "You are given an integer array nums (0-indexed). In one operation, you can choose an element of the array and increment it by 1.\n",
    "\n",
    "* For example, if nums = [1,2,3], you can choose to increment nums[1] to make nums = [1,3,3].\n",
    "\n",
    "Return the minimum number of operations needed to make nums strictly increasing.\n",
    "\n",
    "An array nums is strictly increasing if nums[i] < nums[i+1] for all 0 <= i < nums.length - 1. An array of length 1 is trivially strictly increasing."
   ]
  },
  {
   "cell_type": "markdown",
   "id": "dd9acb73",
   "metadata": {},
   "source": [
    "# Constraints\n",
    "* 1 <= nums.length <= 5000\n",
    "* 1 <= nums[i] <= 10**4"
   ]
  },
  {
   "cell_type": "code",
   "execution_count": 5,
   "id": "f01e0ecb",
   "metadata": {},
   "outputs": [],
   "source": [
    "class Solution:\n",
    "    def minOperations(self, nums: [int]) -> int:\n",
    "        operations = 0\n",
    "        for i in range(1, len(nums)):\n",
    "            if nums[i] <= nums[i-1]:\n",
    "                operations += nums[i-1] - nums[i] + 1\n",
    "                nums[i] = nums[i-1] + 1\n",
    "        \n",
    "        return operations"
   ]
  },
  {
   "cell_type": "code",
   "execution_count": 6,
   "id": "af44ab13",
   "metadata": {},
   "outputs": [
    {
     "name": "stdout",
     "output_type": "stream",
     "text": [
      "3\n",
      "14\n",
      "0\n"
     ]
    }
   ],
   "source": [
    "if __name__ == '__main__':\n",
    "    f = Solution()\n",
    "    \n",
    "    nums = [1,1,1]\n",
    "    print(f.minOperations(nums))   # 3\n",
    "    \n",
    "    nums = [1,5,2,4,1]\n",
    "    print(f.minOperations(nums))   # 14\n",
    "    \n",
    "    nums = [8]\n",
    "    print(f.minOperations(nums))   # 0"
   ]
  }
 ],
 "metadata": {
  "kernelspec": {
   "display_name": "Python 3 (ipykernel)",
   "language": "python",
   "name": "python3"
  },
  "language_info": {
   "codemirror_mode": {
    "name": "ipython",
    "version": 3
   },
   "file_extension": ".py",
   "mimetype": "text/x-python",
   "name": "python",
   "nbconvert_exporter": "python",
   "pygments_lexer": "ipython3",
   "version": "3.9.12"
  }
 },
 "nbformat": 4,
 "nbformat_minor": 5
}
