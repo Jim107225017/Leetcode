{
 "cells": [
  {
   "cell_type": "markdown",
   "id": "112a8bc4",
   "metadata": {},
   "source": [
    "# Description\n",
    "You are given an array rectangles where rectangles[i] = [li, wi] represents the ith rectangle of length li and width wi.\n",
    "\n",
    "You can cut the ith rectangle to form a square with a side length of k if both k <= li and k <= wi. For example, if you have a rectangle [4,6], you can cut it to get a square with a side length of at most 4.\n",
    "\n",
    "Let maxLen be the side length of the largest square you can obtain from any of the given rectangles.\n",
    "\n",
    "Return the number of rectangles that can make a square with a side length of maxLen."
   ]
  },
  {
   "cell_type": "markdown",
   "id": "96d274b4",
   "metadata": {},
   "source": [
    "# Constraints\n",
    "* 1 <= rectangles.length <= 1000\n",
    "* rectangles[i].length == 2\n",
    "* 1 <= li, wi <= 109\n",
    "* li != wi"
   ]
  },
  {
   "cell_type": "code",
   "execution_count": 1,
   "id": "8bd67421",
   "metadata": {},
   "outputs": [],
   "source": [
    "class Solution:\n",
    "    def countGoodRectangles(self, rectangles: [[int]]) -> int:\n",
    "        rectangle = [min(i) for i in rectangles]\n",
    "        return rectangle.count(max(rectangle))"
   ]
  },
  {
   "cell_type": "code",
   "execution_count": 2,
   "id": "732a9002",
   "metadata": {},
   "outputs": [
    {
     "name": "stdout",
     "output_type": "stream",
     "text": [
      "3\n",
      "3\n"
     ]
    }
   ],
   "source": [
    "if __name__ == '__main__':\n",
    "    f = Solution()\n",
    "    \n",
    "    rectangles = [[5,8],[3,9],[5,12],[16,5]]\n",
    "    print(f.countGoodRectangles(rectangles))   # 3\n",
    "    \n",
    "    rectangles = [[2,3],[3,7],[4,3],[3,7]]\n",
    "    print(f.countGoodRectangles(rectangles))   # 3"
   ]
  }
 ],
 "metadata": {
  "kernelspec": {
   "display_name": "Python 3 (ipykernel)",
   "language": "python",
   "name": "python3"
  },
  "language_info": {
   "codemirror_mode": {
    "name": "ipython",
    "version": 3
   },
   "file_extension": ".py",
   "mimetype": "text/x-python",
   "name": "python",
   "nbconvert_exporter": "python",
   "pygments_lexer": "ipython3",
   "version": "3.9.12"
  }
 },
 "nbformat": 4,
 "nbformat_minor": 5
}
