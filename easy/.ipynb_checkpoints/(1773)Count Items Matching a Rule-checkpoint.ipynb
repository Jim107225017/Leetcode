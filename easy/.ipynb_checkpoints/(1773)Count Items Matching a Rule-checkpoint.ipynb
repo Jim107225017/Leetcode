{
 "cells": [
  {
   "cell_type": "markdown",
   "id": "ad2ef96c",
   "metadata": {},
   "source": [
    "# Description\n",
    "You are given an array items, where each items[i] = [typei, colori, namei] describes the type, color, and name of the ith item. You are also given a rule represented by two strings, ruleKey and ruleValue.\n",
    "\n",
    "The ith item is said to match the rule if one of the following is true:\n",
    "\n",
    "* ruleKey == \"type\" and ruleValue == typei.\n",
    "* ruleKey == \"color\" and ruleValue == colori.\n",
    "* ruleKey == \"name\" and ruleValue == namei.\n",
    "\n",
    "Return the number of items that match the given rule."
   ]
  },
  {
   "cell_type": "markdown",
   "id": "f33e88bf",
   "metadata": {},
   "source": [
    "# Constraints\n",
    "* 1 <= items.length <= 10**4\n",
    "* 1 <= typei.length, colori.length, namei.length, ruleValue.length <= 10\n",
    "* ruleKey is equal to either \"type\", \"color\", or \"name\".\n",
    "* All strings consist only of lowercase letters."
   ]
  },
  {
   "cell_type": "code",
   "execution_count": 1,
   "id": "3bfc906d",
   "metadata": {},
   "outputs": [],
   "source": [
    "class Solution:\n",
    "    def countMatches(self, items: [[str]], ruleKey: str, ruleValue: str) -> int:\n",
    "        record = {'type': 0, 'color': 1, 'name': 2}\n",
    "        idx = record[ruleKey]\n",
    "        return sum(1 for item in items if item[idx] == ruleValue)"
   ]
  },
  {
   "cell_type": "code",
   "execution_count": 2,
   "id": "83ead449",
   "metadata": {},
   "outputs": [
    {
     "name": "stdout",
     "output_type": "stream",
     "text": [
      "1\n",
      "2\n"
     ]
    }
   ],
   "source": [
    "if __name__ == '__main__':\n",
    "    f = Solution()\n",
    "    \n",
    "    items = [[\"phone\",\"blue\",\"pixel\"],[\"computer\",\"silver\",\"lenovo\"],[\"phone\",\"gold\",\"iphone\"]]\n",
    "    ruleKey = \"color\"\n",
    "    ruleValue = \"silver\"\n",
    "    print(f.countMatches(items, ruleKey, ruleValue))   # 1\n",
    "    \n",
    "    items = [[\"phone\",\"blue\",\"pixel\"],[\"computer\",\"silver\",\"phone\"],[\"phone\",\"gold\",\"iphone\"]]\n",
    "    ruleKey = \"type\"\n",
    "    ruleValue = \"phone\"\n",
    "    print(f.countMatches(items, ruleKey, ruleValue))   # 2"
   ]
  }
 ],
 "metadata": {
  "kernelspec": {
   "display_name": "Python 3 (ipykernel)",
   "language": "python",
   "name": "python3"
  },
  "language_info": {
   "codemirror_mode": {
    "name": "ipython",
    "version": 3
   },
   "file_extension": ".py",
   "mimetype": "text/x-python",
   "name": "python",
   "nbconvert_exporter": "python",
   "pygments_lexer": "ipython3",
   "version": "3.9.12"
  }
 },
 "nbformat": 4,
 "nbformat_minor": 5
}
