{
 "cells": [
  {
   "cell_type": "markdown",
   "id": "1050f697",
   "metadata": {},
   "source": [
    "# Description\n",
    "Given two n x n binary matrices mat and target, return true if it is possible to make mat equal to target by rotating mat in 90-degree increments, or false otherwise."
   ]
  },
  {
   "cell_type": "markdown",
   "id": "5c68d8ca",
   "metadata": {},
   "source": [
    "# Constraints\n",
    "* n == mat.length == target.length\n",
    "* n == mat[i].length == target[i].length\n",
    "* 1 <= n <= 10\n",
    "* mat[i][j] and target[i][j] are either 0 or 1."
   ]
  },
  {
   "cell_type": "markdown",
   "id": "6f375388",
   "metadata": {},
   "source": [
    "# Example\n",
    "![ex1](../jupyter_md/1886_1.PNG)\n",
    "![ex2](../jupyter_md/1886_2.PNG)\n",
    "![ex3](../jupyter_md/1886_3.PNG)"
   ]
  },
  {
   "cell_type": "code",
   "execution_count": 16,
   "id": "66d2188c",
   "metadata": {},
   "outputs": [],
   "source": [
    "class Solution:\n",
    "    def findRotation(self, mat: [[int]], target: [[int]]) -> bool:\n",
    "        rotate_90 = [list(i[::-1]) for i in zip(*mat)]\n",
    "        rotate_180 = [list(i[::-1]) for i in zip(*rotate_90)]\n",
    "        rotate_270 = [list(i[::-1]) for i in zip(*rotate_180)]\n",
    "        for rotate in (mat, rotate_90, rotate_180, rotate_270):\n",
    "            if target == rotate:\n",
    "                return True\n",
    "        \n",
    "        return False"
   ]
  },
  {
   "cell_type": "code",
   "execution_count": 18,
   "id": "f81d475b",
   "metadata": {},
   "outputs": [
    {
     "name": "stdout",
     "output_type": "stream",
     "text": [
      "True\n",
      "False\n",
      "True\n"
     ]
    }
   ],
   "source": [
    "if __name__ == '__main__':\n",
    "    f = Solution()\n",
    "    \n",
    "    mat = [[0,1],[1,0]]\n",
    "    target = [[1,0],[0,1]]\n",
    "    print(f.findRotation(mat, target))   # True\n",
    "    \n",
    "    mat = [[0,1],[1,1]]\n",
    "    target = [[1,0],[0,1]]\n",
    "    print(f.findRotation(mat, target))   # False\n",
    "    \n",
    "    mat = [[0,0,0],[0,1,0],[1,1,1]]\n",
    "    target = [[1,1,1],[0,1,0],[0,0,0]]\n",
    "    print(f.findRotation(mat, target))   # True"
   ]
  }
 ],
 "metadata": {
  "kernelspec": {
   "display_name": "Python 3 (ipykernel)",
   "language": "python",
   "name": "python3"
  },
  "language_info": {
   "codemirror_mode": {
    "name": "ipython",
    "version": 3
   },
   "file_extension": ".py",
   "mimetype": "text/x-python",
   "name": "python",
   "nbconvert_exporter": "python",
   "pygments_lexer": "ipython3",
   "version": "3.9.12"
  }
 },
 "nbformat": 4,
 "nbformat_minor": 5
}
