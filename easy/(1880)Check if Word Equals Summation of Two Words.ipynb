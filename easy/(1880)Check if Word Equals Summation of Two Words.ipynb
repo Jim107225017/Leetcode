{
 "cells": [
  {
   "cell_type": "markdown",
   "id": "45f86c4f",
   "metadata": {},
   "source": [
    "# Description\n",
    "The letter value of a letter is its position in the alphabet starting from 0 (i.e. 'a' -> 0, 'b' -> 1, 'c' -> 2, etc.).\n",
    "\n",
    "The numerical value of some string of lowercase English letters s is the concatenation of the letter values of each letter in s, which is then converted into an integer.\n",
    "\n",
    "* For example, if s = \"acb\", we concatenate each letter's letter value, resulting in \"021\". After converting it, we get 21.\n",
    "\n",
    "You are given three strings firstWord, secondWord, and targetWord, each consisting of lowercase English letters 'a' through 'j' inclusive.\n",
    "\n",
    "Return true if the summation of the numerical values of firstWord and secondWord equals the numerical value of targetWord, or false otherwise."
   ]
  },
  {
   "cell_type": "markdown",
   "id": "49b6a62e",
   "metadata": {},
   "source": [
    "# Constraints\n",
    "* 1 <= firstWord.length, secondWord.length, targetWord.length <= 8\n",
    "* firstWord, secondWord, and targetWord consist of lowercase English letters from 'a' to 'j' inclusive."
   ]
  },
  {
   "cell_type": "code",
   "execution_count": 3,
   "id": "11c7f79d",
   "metadata": {},
   "outputs": [],
   "source": [
    "class Solution:\n",
    "    def isSumEqual(self, firstWord: str, secondWord: str, targetWord: str) -> bool:\n",
    "        firstNumber = secondNumber = targetNumber = ''\n",
    "        for char in firstWord:\n",
    "            firstNumber += str(ord(char)-97)\n",
    "        for char in secondWord:\n",
    "            secondNumber += str(ord(char)-97)\n",
    "        for char in targetWord:\n",
    "            targetNumber += str(ord(char)-97)\n",
    "        \n",
    "        return int(firstNumber) + int(secondNumber) == int(targetNumber)"
   ]
  },
  {
   "cell_type": "code",
   "execution_count": 4,
   "id": "40c52fb7",
   "metadata": {},
   "outputs": [
    {
     "name": "stdout",
     "output_type": "stream",
     "text": [
      "True\n",
      "False\n",
      "True\n"
     ]
    }
   ],
   "source": [
    "if __name__ == '__main__':\n",
    "    f = Solution()\n",
    "    \n",
    "    firstWord = \"acb\"\n",
    "    secondWord = \"cba\"\n",
    "    targetWord = \"cdb\"\n",
    "    print(f.isSumEqual(firstWord, secondWord, targetWord))   # True\n",
    "    \n",
    "    firstWord = \"aaa\"\n",
    "    secondWord = \"a\"\n",
    "    targetWord = \"aab\"\n",
    "    print(f.isSumEqual(firstWord, secondWord, targetWord))   # False\n",
    "    \n",
    "    firstWord = \"aaa\"\n",
    "    secondWord = \"a\"\n",
    "    targetWord = \"aaaa\"\n",
    "    print(f.isSumEqual(firstWord, secondWord, targetWord))   # True"
   ]
  }
 ],
 "metadata": {
  "kernelspec": {
   "display_name": "Python 3 (ipykernel)",
   "language": "python",
   "name": "python3"
  },
  "language_info": {
   "codemirror_mode": {
    "name": "ipython",
    "version": 3
   },
   "file_extension": ".py",
   "mimetype": "text/x-python",
   "name": "python",
   "nbconvert_exporter": "python",
   "pygments_lexer": "ipython3",
   "version": "3.9.12"
  }
 },
 "nbformat": 4,
 "nbformat_minor": 5
}
