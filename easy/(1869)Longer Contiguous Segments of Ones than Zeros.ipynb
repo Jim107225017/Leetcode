{
 "cells": [
  {
   "cell_type": "markdown",
   "id": "48fe88be",
   "metadata": {},
   "source": [
    "# Description\n",
    "Given a binary string s, return true if the longest contiguous segment of 1's is strictly longer than the longest contiguous segment of 0's in s, or return false otherwise.\n",
    "\n",
    "* For example, in s = \"110100010\" the longest continuous segment of 1s has length 2, and the longest continuous segment of 0s has length 3.\n",
    "\n",
    "Note that if there are no 0's, then the longest continuous segment of 0's is considered to have a length 0. The same applies if there is no 1's."
   ]
  },
  {
   "cell_type": "markdown",
   "id": "36fb2822",
   "metadata": {},
   "source": [
    "# Constraints\n",
    "* 1 <= s.length <= 100\n",
    "* s[i] is either '0' or '1'."
   ]
  },
  {
   "cell_type": "code",
   "execution_count": 1,
   "id": "0d57aae0",
   "metadata": {},
   "outputs": [],
   "source": [
    "class Solution:\n",
    "    def checkZeroOnes(self, s: str) -> bool:\n",
    "        contiguous_a = 0\n",
    "        contiguous_b = 0\n",
    "        count = 1\n",
    "        prev = s[0]\n",
    "        for i in range(1, len(s)):\n",
    "            if s[i] == prev:\n",
    "                count += 1\n",
    "            else:\n",
    "                if prev == '1':\n",
    "                    contiguous_a = max(contiguous_a, count)\n",
    "                else:\n",
    "                    contiguous_b = max(contiguous_b, count)\n",
    "                count = 1\n",
    "                prev = s[i]\n",
    "        \n",
    "        if prev == '1':\n",
    "            contiguous_a = max(contiguous_a, count)\n",
    "        else:\n",
    "            contiguous_b = max(contiguous_b, count)\n",
    "        \n",
    "        return contiguous_a > contiguous_b"
   ]
  },
  {
   "cell_type": "code",
   "execution_count": 3,
   "id": "6dd12280",
   "metadata": {},
   "outputs": [],
   "source": [
    "class Solution:\n",
    "    def checkZeroOnes(self, s: str) -> bool:\n",
    "        best_one, best_zero, current_one, current_zero = 0, 0, 0, 0\n",
    "        \n",
    "        for i in s:\n",
    "            if i == \"1\":\n",
    "                current_zero = 0\n",
    "                current_one += 1\n",
    "            else:\n",
    "                current_zero += 1\n",
    "                current_one = 0\n",
    "                \n",
    "            best_one = max(best_one, current_one)\n",
    "            best_zero = max(best_zero, current_zero)\n",
    "        \n",
    "        return best_one > best_zero"
   ]
  },
  {
   "cell_type": "code",
   "execution_count": 4,
   "id": "f5622c6d",
   "metadata": {},
   "outputs": [
    {
     "name": "stdout",
     "output_type": "stream",
     "text": [
      "True\n",
      "False\n",
      "False\n"
     ]
    }
   ],
   "source": [
    "if __name__ == '__main__':\n",
    "    f = Solution()\n",
    "    \n",
    "    s = \"1101\"\n",
    "    print(f.checkZeroOnes(s))   # True\n",
    "    \n",
    "    s = \"111000\"\n",
    "    print(f.checkZeroOnes(s))   # False\n",
    "    \n",
    "    s = \"110100010\"\n",
    "    print(f.checkZeroOnes(s))   # False"
   ]
  }
 ],
 "metadata": {
  "kernelspec": {
   "display_name": "Python 3 (ipykernel)",
   "language": "python",
   "name": "python3"
  },
  "language_info": {
   "codemirror_mode": {
    "name": "ipython",
    "version": 3
   },
   "file_extension": ".py",
   "mimetype": "text/x-python",
   "name": "python",
   "nbconvert_exporter": "python",
   "pygments_lexer": "ipython3",
   "version": "3.9.12"
  }
 },
 "nbformat": 4,
 "nbformat_minor": 5
}
