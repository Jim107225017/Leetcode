{
 "cells": [
  {
   "cell_type": "markdown",
   "id": "79a2f826",
   "metadata": {},
   "source": [
    "# Description\n",
    "The product difference between two pairs (a, b) and (c, d) is defined as (a * b) - (c * d).\n",
    "\n",
    "* For example, the product difference between (5, 6) and (2, 7) is (5 * 6) - (2 * 7) = 16.\n",
    "\n",
    "Given an integer array nums, choose four distinct indices w, x, y, and z such that the product difference between pairs (nums[w], nums[x]) and (nums[y], nums[z]) is maximized.\n",
    "\n",
    "Return the maximum such product difference."
   ]
  },
  {
   "cell_type": "markdown",
   "id": "8e3c2eaf",
   "metadata": {},
   "source": [
    "# Constraints\n",
    "* 4 <= nums.length <= 10<sup>4</sup>\n",
    "* 1 <= nums[i] <= 10<sup>4</sup>"
   ]
  },
  {
   "cell_type": "code",
   "execution_count": null,
   "id": "3da74001",
   "metadata": {},
   "outputs": [],
   "source": [
    "class Solution:\n",
    "    def maxProductDifference(self, nums: [int]) -> int:\n",
    "        "
   ]
  },
  {
   "cell_type": "code",
   "execution_count": null,
   "id": "0452405a",
   "metadata": {},
   "outputs": [],
   "source": [
    "if __name__ == '__main__':\n",
    "    f = Solution()\n",
    "    \n",
    "    nums = [5,6,2,7,4]\n",
    "    print(f.maxProductDifference(nums))   # 34\n",
    "    \n",
    "    nums = [4,2,5,9,7,4,8]\n",
    "    print(f.maxProductDifference(nums))   # 64"
   ]
  }
 ],
 "metadata": {
  "kernelspec": {
   "display_name": "Python 3 (ipykernel)",
   "language": "python",
   "name": "python3"
  },
  "language_info": {
   "codemirror_mode": {
    "name": "ipython",
    "version": 3
   },
   "file_extension": ".py",
   "mimetype": "text/x-python",
   "name": "python",
   "nbconvert_exporter": "python",
   "pygments_lexer": "ipython3",
   "version": "3.9.12"
  }
 },
 "nbformat": 4,
 "nbformat_minor": 5
}
