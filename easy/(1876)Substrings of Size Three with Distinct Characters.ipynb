{
 "cells": [
  {
   "cell_type": "markdown",
   "id": "1fecc359",
   "metadata": {},
   "source": [
    "# Description\n",
    "A string is good if there are no repeated characters.\n",
    "\n",
    "Given a string s​​​​​, return the number of good substrings of length three in s​​​​​​.\n",
    "\n",
    "Note that if there are multiple occurrences of the same substring, every occurrence should be counted.\n",
    "\n",
    "A substring is a contiguous sequence of characters in a string."
   ]
  },
  {
   "cell_type": "markdown",
   "id": "a7d3de1c",
   "metadata": {},
   "source": [
    "# Constraints\n",
    "* 1 <= s.length <= 100\n",
    "* s​​​​​​ consists of lowercase English letters."
   ]
  },
  {
   "cell_type": "code",
   "execution_count": 3,
   "id": "d924a7d8",
   "metadata": {},
   "outputs": [],
   "source": [
    "class Solution:\n",
    "    def countGoodSubstrings(self, s: str) -> int:\n",
    "        count = 0\n",
    "        for i in range(len(s)-2):\n",
    "            substring = s[i:i+3]\n",
    "            is_good = True\n",
    "            for char in substring:\n",
    "                if substring.count(char) > 1:\n",
    "                    is_good = False\n",
    "                    break\n",
    "            \n",
    "            if is_good:\n",
    "                count += 1\n",
    "        \n",
    "        return count"
   ]
  },
  {
   "cell_type": "code",
   "execution_count": 4,
   "id": "431e0eda",
   "metadata": {},
   "outputs": [
    {
     "name": "stdout",
     "output_type": "stream",
     "text": [
      "1\n",
      "4\n"
     ]
    }
   ],
   "source": [
    "if __name__ == '__main__':\n",
    "    f = Solution()\n",
    "    \n",
    "    s = \"xyzzaz\"\n",
    "    print(f.countGoodSubstrings(s))   # 1\n",
    "    \n",
    "    s = \"aababcabc\"\n",
    "    print(f.countGoodSubstrings(s))   # 4"
   ]
  }
 ],
 "metadata": {
  "kernelspec": {
   "display_name": "Python 3 (ipykernel)",
   "language": "python",
   "name": "python3"
  },
  "language_info": {
   "codemirror_mode": {
    "name": "ipython",
    "version": 3
   },
   "file_extension": ".py",
   "mimetype": "text/x-python",
   "name": "python",
   "nbconvert_exporter": "python",
   "pygments_lexer": "ipython3",
   "version": "3.9.12"
  }
 },
 "nbformat": 4,
 "nbformat_minor": 5
}
