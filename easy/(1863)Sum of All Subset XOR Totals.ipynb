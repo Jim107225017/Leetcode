{
 "cells": [
  {
   "cell_type": "markdown",
   "id": "33501079",
   "metadata": {},
   "source": [
    "# Description\n",
    "The XOR total of an array is defined as the bitwise XOR of all its elements, or 0 if the array is empty.\n",
    "\n",
    "* For example, the XOR total of the array [2,5,6] is 2 XOR 5 XOR 6 = 1.\n",
    "\n",
    "Given an array nums, return the sum of all XOR totals for every subset of nums. \n",
    "\n",
    "Note: Subsets with the same elements should be counted multiple times.\n",
    "\n",
    "An array a is a subset of an array b if a can be obtained from b by deleting some (possibly zero) elements of b."
   ]
  },
  {
   "cell_type": "markdown",
   "id": "7342ae3b",
   "metadata": {},
   "source": [
    "# Constraints\n",
    "* 1 <= nums.length <= 12\n",
    "* 1 <= nums[i] <= 20"
   ]
  },
  {
   "cell_type": "code",
   "execution_count": 40,
   "id": "ac691900",
   "metadata": {},
   "outputs": [],
   "source": [
    "class Solution:\n",
    "    def subsetXORSum(self, nums: [int]) -> int:\n",
    "        \n",
    "        subsets = []\n",
    "        def recursive_generate_subset(idx: int, subset: list):\n",
    "            if idx == len(nums):\n",
    "                if subset:\n",
    "                    subsets.append(subset.copy())\n",
    "                return\n",
    "\n",
    "            subset.append(nums[idx])\n",
    "            recursive_generate_subset(idx+1, subset)\n",
    "            subset.pop()\n",
    "            recursive_generate_subset(idx+1, subset)\n",
    "        \n",
    "        recursive_generate_subset(0, [])\n",
    "        totals = 0\n",
    "        for subset in subsets:\n",
    "            tmp = 0\n",
    "            for num in subset:\n",
    "                tmp = tmp ^ num\n",
    "        \n",
    "            totals += tmp\n",
    "        \n",
    "        return totals"
   ]
  },
  {
   "cell_type": "code",
   "execution_count": 48,
   "id": "9fb31dd2",
   "metadata": {},
   "outputs": [],
   "source": [
    "class Solution:\n",
    "    def subsetXORSum(self, nums: [int]) -> int:\n",
    "        \n",
    "        ans = []\n",
    "        def recursive_generate_subset(idx: int, subset: list):\n",
    "            if idx == len(nums):\n",
    "                if subset:\n",
    "                    tmp = 0\n",
    "                    for num in subset:\n",
    "                        tmp = tmp ^ num\n",
    "                    ans.append(tmp)\n",
    "                return\n",
    "\n",
    "            subset.append(nums[idx])\n",
    "            recursive_generate_subset(idx+1, subset)\n",
    "            subset.pop()\n",
    "            recursive_generate_subset(idx+1, subset)\n",
    "        \n",
    "        recursive_generate_subset(0, [])\n",
    "        \n",
    "        return sum(ans)"
   ]
  },
  {
   "cell_type": "code",
   "execution_count": 49,
   "id": "b4e902f3",
   "metadata": {},
   "outputs": [
    {
     "name": "stdout",
     "output_type": "stream",
     "text": [
      "6\n",
      "28\n",
      "480\n"
     ]
    }
   ],
   "source": [
    "if __name__ == '__main__':\n",
    "    f = Solution()\n",
    "    \n",
    "    nums = [1,3]\n",
    "    print(f.subsetXORSum(nums))   # 6\n",
    "    \n",
    "    nums = [5,1,6]\n",
    "    print(f.subsetXORSum(nums))   # 28\n",
    "    \n",
    "    nums = [3,4,5,6,7,8]\n",
    "    print(f.subsetXORSum(nums))   # 480"
   ]
  }
 ],
 "metadata": {
  "kernelspec": {
   "display_name": "Python 3 (ipykernel)",
   "language": "python",
   "name": "python3"
  },
  "language_info": {
   "codemirror_mode": {
    "name": "ipython",
    "version": 3
   },
   "file_extension": ".py",
   "mimetype": "text/x-python",
   "name": "python",
   "nbconvert_exporter": "python",
   "pygments_lexer": "ipython3",
   "version": "3.9.12"
  }
 },
 "nbformat": 4,
 "nbformat_minor": 5
}
