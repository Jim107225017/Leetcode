{
 "cells": [
  {
   "cell_type": "markdown",
   "id": "dd556a82",
   "metadata": {},
   "source": [
    "# Description\n",
    "A sentence is a list of words that are separated by a single space with no leading or trailing spaces. Each of the words consists of only uppercase and lowercase English letters (no punctuation).\n",
    "\n",
    "* For example, \"Hello World\", \"HELLO\", and \"hello world hello world\" are all sentences.\n",
    "\n",
    "You are given a sentence s​​​​​​ and an integer k​​​​​​. You want to truncate s​​​​​​ such that it contains only the first k​​​​​​ words. Return s​​​​​​ after truncating it."
   ]
  },
  {
   "cell_type": "markdown",
   "id": "390872da",
   "metadata": {},
   "source": [
    "# Constraints\n",
    "* 1 <= s.length <= 500\n",
    "* k is in the range [1, the number of words in s].\n",
    "* s consist of only lowercase and uppercase English letters and spaces.\n",
    "* The words in s are separated by a single space.\n",
    "* There are no leading or trailing spaces."
   ]
  },
  {
   "cell_type": "code",
   "execution_count": 1,
   "id": "ac26656a",
   "metadata": {},
   "outputs": [],
   "source": [
    "class Solution:\n",
    "    def truncateSentence(self, s: str, k: int) -> str:\n",
    "        return ' '.join(s.split(' ')[:k])"
   ]
  },
  {
   "cell_type": "code",
   "execution_count": 2,
   "id": "7b3c1f17",
   "metadata": {},
   "outputs": [
    {
     "name": "stdout",
     "output_type": "stream",
     "text": [
      "Hello how are you\n",
      "What is the solution\n",
      "chopper is not a tanuki\n"
     ]
    }
   ],
   "source": [
    "if __name__ == '__main__':\n",
    "    f = Solution()\n",
    "    \n",
    "    s = \"Hello how are you Contestant\"\n",
    "    k = 4\n",
    "    print(f.truncateSentence(s, k))   # \"Hello how are you\"\n",
    "    \n",
    "    s = \"What is the solution to this problem\"\n",
    "    k = 4\n",
    "    print(f.truncateSentence(s, k))   # \"What is the solution\"\n",
    "    \n",
    "    s = \"chopper is not a tanuki\"\n",
    "    k = 5\n",
    "    print(f.truncateSentence(s, k))   # \"chopper is not a tanuki\""
   ]
  }
 ],
 "metadata": {
  "kernelspec": {
   "display_name": "Python 3 (ipykernel)",
   "language": "python",
   "name": "python3"
  },
  "language_info": {
   "codemirror_mode": {
    "name": "ipython",
    "version": 3
   },
   "file_extension": ".py",
   "mimetype": "text/x-python",
   "name": "python",
   "nbconvert_exporter": "python",
   "pygments_lexer": "ipython3",
   "version": "3.9.12"
  }
 },
 "nbformat": 4,
 "nbformat_minor": 5
}
