{
 "cells": [
  {
   "cell_type": "markdown",
   "id": "c9d94c63",
   "metadata": {},
   "source": [
    "# Description\n",
    "A pangram is a sentence where every letter of the English alphabet appears at least once.\n",
    "\n",
    "Given a string sentence containing only lowercase English letters, return true if sentence is a pangram, or false otherwise."
   ]
  },
  {
   "cell_type": "markdown",
   "id": "0d3c1e55",
   "metadata": {},
   "source": [
    "# Constraints\n",
    "* 1 <= sentence.length <= 1000\n",
    "* sentence consists of lowercase English letters."
   ]
  },
  {
   "cell_type": "code",
   "execution_count": 1,
   "id": "b651d01c",
   "metadata": {},
   "outputs": [],
   "source": [
    "class Solution:\n",
    "    def checkIfPangram(self, sentence: str) -> bool:\n",
    "        hashmap = set()\n",
    "        for char in sentence:\n",
    "            hashmap.add(char)\n",
    "            \n",
    "        return len(hashmap) == 26"
   ]
  },
  {
   "cell_type": "code",
   "execution_count": 2,
   "id": "c3741a39",
   "metadata": {},
   "outputs": [
    {
     "name": "stdout",
     "output_type": "stream",
     "text": [
      "True\n",
      "False\n"
     ]
    }
   ],
   "source": [
    "if __name__ == '__main__':\n",
    "    f = Solution()\n",
    "    \n",
    "    sentence = \"thequickbrownfoxjumpsoverthelazydog\"\n",
    "    print(f.checkIfPangram(sentence))   # True\n",
    "    \n",
    "    sentence = \"leetcode\"\n",
    "    print(f.checkIfPangram(sentence))   # False"
   ]
  }
 ],
 "metadata": {
  "kernelspec": {
   "display_name": "Python 3 (ipykernel)",
   "language": "python",
   "name": "python3"
  },
  "language_info": {
   "codemirror_mode": {
    "name": "ipython",
    "version": 3
   },
   "file_extension": ".py",
   "mimetype": "text/x-python",
   "name": "python",
   "nbconvert_exporter": "python",
   "pygments_lexer": "ipython3",
   "version": "3.9.12"
  }
 },
 "nbformat": 4,
 "nbformat_minor": 5
}
