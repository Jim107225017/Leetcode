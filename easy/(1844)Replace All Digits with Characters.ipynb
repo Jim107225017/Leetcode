{
 "cells": [
  {
   "cell_type": "markdown",
   "id": "55aa00a2",
   "metadata": {},
   "source": [
    "# Description\n",
    "You are given a 0-indexed string s that has lowercase English letters in its even indices and digits in its odd indices.\n",
    "\n",
    "There is a function shift(c, x), where c is a character and x is a digit, that returns the xth character after c.\n",
    "\n",
    "* For example, shift('a', 5) = 'f' and shift('x', 0) = 'x'.\n",
    "\n",
    "For every odd index i, you want to replace the digit s[i] with shift(s[i-1], s[i]).\n",
    "\n",
    "Return s after replacing all digits. It is guaranteed that shift(s[i-1], s[i]) will never exceed 'z'."
   ]
  },
  {
   "cell_type": "markdown",
   "id": "85b96278",
   "metadata": {},
   "source": [
    "# Constraints\n",
    "* 1 <= s.length <= 100\n",
    "* s consists only of lowercase English letters and digits.\n",
    "* shift(s[i-1], s[i]) <= 'z' for all odd indices i."
   ]
  },
  {
   "cell_type": "code",
   "execution_count": 4,
   "id": "ad010dc6",
   "metadata": {},
   "outputs": [],
   "source": [
    "class Solution:\n",
    "    def replaceDigits(self, s: str) -> str:\n",
    "        s = list(s)\n",
    "        for i in range(len(s) // 2):\n",
    "            s[2*i+1] = chr(ord(s[2*i]) + int(s[2*i+1]))\n",
    "        \n",
    "        return ''.join(s)"
   ]
  },
  {
   "cell_type": "code",
   "execution_count": 5,
   "id": "8763053d",
   "metadata": {},
   "outputs": [
    {
     "name": "stdout",
     "output_type": "stream",
     "text": [
      "abcdef\n",
      "abbdcfdhe\n"
     ]
    }
   ],
   "source": [
    "if __name__ == '__main__':\n",
    "    f = Solution()\n",
    "    \n",
    "    s = \"a1c1e1\"\n",
    "    print(f.replaceDigits(s))   # \"abcdef\"\n",
    "    \n",
    "    s = \"a1b2c3d4e\"\n",
    "    print(f.replaceDigits(s))   # \"abbdcfdhe\""
   ]
  }
 ],
 "metadata": {
  "kernelspec": {
   "display_name": "Python 3 (ipykernel)",
   "language": "python",
   "name": "python3"
  },
  "language_info": {
   "codemirror_mode": {
    "name": "ipython",
    "version": 3
   },
   "file_extension": ".py",
   "mimetype": "text/x-python",
   "name": "python",
   "nbconvert_exporter": "python",
   "pygments_lexer": "ipython3",
   "version": "3.9.12"
  }
 },
 "nbformat": 4,
 "nbformat_minor": 5
}
